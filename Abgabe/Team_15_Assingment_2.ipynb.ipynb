{
 "cells": [
  {
   "cell_type": "markdown",
   "metadata": {},
   "source": [
    "# DLTA Project Assignment II\n",
    "\n",
    "---------------------\n",
    "## Team information\n",
    "\n",
    "|Team-number :| 15|\n",
    "|:----:|:----:|\n",
    "\n",
    "\n",
    "|       Name        |          E-Mail           | matriculation-nr. |\n",
    "|:-----------------:|:-------------------------:|:-----------------:|\n",
    "|    Fabian Dick    |  dick16@ads.uni-passau.de   |      104936      |\n",
    "| Julian Dietlmeier | dietlm06@ads.uni-passau.de |       80363       |\n",
    "|   Albert Nietz    |  nietz01@ads.uni-passau.de   |      103947      |\n",
    "\n",
    "---------------------"
   ]
  },
  {
   "cell_type": "markdown",
   "metadata": {
    "tags": []
   },
   "source": [
    "## Introduction"
   ]
  },
  {
   "cell_type": "markdown",
   "metadata": {},
   "source": [
    "Natural language processing (NLP) aims at systemizing information from text in the form of numerical representations. For this aim several methods exist. The following project assignment is about comparing different methods for textual representations which are then used for a binary classification of these texts.  The used dataset contains questions and answers from earning calls of listed companies, such as Meta or Starbucks. Earning calls have the potential to be an important source for stock market data predictions, since financial results, risks or specific outlooks of the underlying businesses are made. With the usage of NLP, earning calls can be analyzed efficiently by structuring the text into certain categories, such as open/specific questions or negative/positive answers. For further processes this information could be then used for opportunities or risk analytics regarding the company, which is not the aim of this work. However the questions comes up which NLP techniques should be applied for the best results and whether it makes any difference at all. To answer this research question the textual representation methods term-frequency inverse-document-frequency (tf-idf), latent semantic analysis (LSA), global vectors (GloVe) and Word to Vec (W2V) are used. The numerical output is then used for a supervised classification problem by applying a Neural-Network-Classifier and a Linear-Classifier, which is used as the baseline model, in the form of a logit regression.\n",
    "In a first step each earning call is separated into questions and answers while in a second step each question and answer get a label. Although several other labels exist in the dataset, in this notebook we focus on the question labels \"company_specific\" and \"market_related\", since these labels might be the most important ones when it comes to predict stock market data either for the specific company or for the market in general.\n",
    "We use each question of the earning calls as corpus and calculate their word embedding with different NLP methods. In addition, to overcome the unbalanced data set, we use oversampling methods. Finally the aim of this notebook is to evaluate different NLP strategies and classifiers based on the prediction performance measured by confusion matrices and receiver operating characteristic metrics. The results are shown in the way such that each NLP-classifier combination is presented individually in order to analyze the outcome per classifier as well as per textual representation technique. Following that, to directly compare the different classifier methods and in order to generalize the results, crossvalidation is used.\n",
    "\n",
    "Please note that the following descriptions will focus on explaining the gist of the approach. In most cases they will not provide in-depth details about the implementation etc. Please see the comments in the source code for more details regarding the implementation."
   ]
  },
  {
   "cell_type": "code",
   "execution_count": null,
   "metadata": {
    "tags": []
   },
   "outputs": [],
   "source": [
    "from math import floor, ceil\n",
    "\n",
    "\n",
    "def prompt(message: str, formatter = 'plain', promt_length = 80):\n",
    "    \"\"\"\n",
    "    Helper function which prints a formatted console messages.\n",
    "\n",
    "    :param message: str message\n",
    "    :param formatter: desired formatting\n",
    "    :param promt_length: desired message length, default is 80 chars\n",
    "    :return:\n",
    "    \"\"\"\n",
    "    print(messageFormatter(message, promt_length))\n",
    "\n",
    "\n",
    "def messageFormatter(message: str, prompt_length, fill_char =\"-\"):\n",
    "    \"\"\"Function which formats the input string\"\"\"\n",
    "    message = \" \" + message.strip() + \" \"\n",
    "    fill_length = (prompt_length - len(message)) / 2\n",
    "    prefix = str(fill_char * floor(fill_length))\n",
    "    postfix = str(fill_char * ceil(fill_length))\n",
    "    return prefix + message + postfix + \"\\n\""
   ]
  },
  {
   "cell_type": "markdown",
   "metadata": {},
   "source": [
    "Before the text import and preprocessing can be covered, a small convenience function has to be discussed. The ```prompt()``` function is used to print formatted console outputs. Usually this is used to give feedback about the current processing step or at the beginning of the execution of a command."
   ]
  },
  {
   "cell_type": "code",
   "execution_count": null,
   "metadata": {
    "collapsed": false,
    "jupyter": {
     "outputs_hidden": false
    },
    "pycharm": {
     "name": "#%%\n"
    }
   },
   "outputs": [],
   "source": [
    "from IPython.core.display import display, HTML\n",
    "\n",
    "def display_side_by_side(dfs:list, captions:list):\n",
    "    \"\"\"Display tables side by side to save vertical space\n",
    "    Input:\n",
    "        dfs: list of pandas.DataFrame\n",
    "        captions: list of table captions\n",
    "    \"\"\"\n",
    "    output = \"\"\n",
    "    combined = dict(zip(captions, dfs))\n",
    "    for caption, df in combined.items():\n",
    "        output += df.style.set_table_attributes(\"style='display:inline'\").set_caption(caption)._repr_html_()\n",
    "        output += \"\\xa0\\xa0\\xa0\"\n",
    "    display(HTML(output))"
   ]
  },
  {
   "cell_type": "markdown",
   "metadata": {},
   "source": [
    "Additionally a small helper function is used to display tables side by side, which is used in the result chapter. "
   ]
  },
  {
   "cell_type": "markdown",
   "metadata": {},
   "source": [
    "## Text Import and Preprocessing"
   ]
  },
  {
   "cell_type": "markdown",
   "metadata": {},
   "source": [
    "### Text Import"
   ]
  },
  {
   "cell_type": "code",
   "execution_count": null,
   "metadata": {},
   "outputs": [],
   "source": [
    "from label_studio_sdk import Client\n",
    "from label_studio_sdk import project\n",
    "import numpy as np\n",
    "import pandas as pd\n",
    "from os.path import exists\n",
    "from collections.abc import Iterable\n",
    "\n",
    "\n",
    "def DataImport(overwrite: bool = False) -> pd.DataFrame:\n",
    "    \"\"\"\n",
    "    Wrapper function for data download and import. It checks if a *.csv file is present and handles the data download and data transformation if it's not.\n",
    "\n",
    "    :param overwrite: Boolean value which determines if the available csv files would be overwritten by new ones (means DataDownload is used, even though the data is locally available)\n",
    "    :return: DataFrame\n",
    "    \"\"\"\n",
    "    if not exists(\"Data/all_data.csv\") or overwrite:\n",
    "        prompt(\"Starting data download\")\n",
    "        DataDownload()\n",
    "\n",
    "    prompt(\"Starting data import\")\n",
    "    data = pd.read_csv(\"Data/all_data.csv\", index_col = 0)\n",
    "    return data\n",
    "\n",
    "\n",
    "def DataDownload() -> pd.DataFrame:\n",
    "    \"\"\"\n",
    "    Function which covers the data download and transformation. Therefore, the raw data is fetched from the server\n",
    "    (requires VPN). Afterwards two helper functions are created, one which basically an element-wise application of\n",
    "    str.contains to a list. The other helper function contains the logic required for the label selection if more\n",
    "    (or less) than 4 labels are available for one text (=Question/Answer). Then a dictionary for the raw_data is created,\n",
    "    which will contain a list for \"strat\"-, \"end\"-, \"text\"- and \"label\"-data. Then a for loop iterates through the raw\n",
    "    data and appends the information to the respective lists.\n",
    "    This results in a DataFrame which contains an entry for each label, or in other words for each question/answer in\n",
    "    each doc (ideally) four entries with ID, and the three question/answer levels.\n",
    "    Next step shall be combining the 4 stages of the labels together. This requires a matching of the text and/or\n",
    "    start/end information. Because the text and/or start/end information for each label can not be directly matched\n",
    "    (because sometimes there are additional characters included at the beginning or end of the text, therefore the stat\n",
    "    and end information can also be different) a matrix with the absolute distances is calculated.\n",
    "    Afterwards an uncertainty factor is set (to a distance of 10) and a list of all elements which have a distance of less\n",
    "    than 10 to each other is created. This ensures that the entries which are the closest to each other are\n",
    "    combined/matched. Now the label information of each stage can be combined. For that a for loop iterates through each\n",
    "    \"label-group\" (\"label-group\" refers to the 3, 4 or 5 labels which are closest to each other) and selects the\n",
    "    label-name to one of the for label-stages (QID/AID, label_l1, label_l2, label_l3). If more than 1 label is present\n",
    "    for one label stage (for example if a question has two times question_3_* labels) in a first step the algorithm\n",
    "    tries to use np.unique to see if the two question_3_* labels are actually different. If that's the case, one can just\n",
    "    use one of the two labels without loss of information. If that's NOT the case, one has to choose to drop information\n",
    "    (then only the FIRST of the two labels is used) or include the information (then an array of the two labels is used,\n",
    "    which obviously breaks the unique labeling if each text).\n",
    "    After four label stages are matched to the text, one obtains a DataFrame with one column for text and four columns\n",
    "    for the label stages.\n",
    "    This DataFrame is then saved as csv and can be loaded at a later point in time.\n",
    "\n",
    "    :return: DataFrame\n",
    "    \"\"\"\n",
    "    LABEL_STUDIO_URL = 'http://132.231.59.226:8080'  # this address needs to be the same as the address the label-studio is hosted on.\n",
    "    API_KEY = '430d989b7f9723b1e5d82462ded8a22bfb331c6d'  # please add your personal API_Key here to get your API_Key follow the Pictures below\n",
    "\n",
    "    ls = Client(url=LABEL_STUDIO_URL, api_key=API_KEY)\n",
    "    ls.check_connection()\n",
    "    pro = project.Project.get_from_id(ls, \"1\")\n",
    "    tasks = project.Project.get_labeled_tasks(pro)\n",
    "\n",
    "    def arrayContains(x: Iterable, y:str) -> Iterable:\n",
    "        \"\"\"\n",
    "        Checks of an (str) element of a list contains y\n",
    "\n",
    "        :param x: List or iterable where each element is a str\n",
    "        :param y: str\n",
    "        :return: List of bools\n",
    "        \"\"\"\n",
    "        output = []\n",
    "        for a in x:\n",
    "            output.append(str(a).__contains__(y))\n",
    "\n",
    "        return output\n",
    "\n",
    "    strange_list = pd.DataFrame(columns=['docID', 'start', 'end', 'text', 'label', 'id'])\n",
    "\n",
    "    def selectLabel(array, label, first=True):\n",
    "        \"\"\"Algorithm which selects a label\"\"\"\n",
    "        nonlocal strange_list\n",
    "        label_array = list(array.loc[arrayContains(array['label'], label), 'label'])\n",
    "        if len(label_array) == 1:\n",
    "            return str(label_array[0])\n",
    "        elif len(label_array) == 0:\n",
    "            strange_list = strange_list.append(pd.DataFrame(array), ignore_index=True)\n",
    "            return str(np.NAN)\n",
    "        else:\n",
    "            strange_list = strange_list.append(pd.DataFrame(array), ignore_index=True)\n",
    "            if len(np.unique(label_array)) == 1:\n",
    "                return str(np.unique(label_array)[0])\n",
    "            elif first:\n",
    "                return str(label_array[0])\n",
    "            else:\n",
    "                return str(label_array)\n",
    "\n",
    "    mylen = np.vectorize(len)\n",
    "\n",
    "    data_all_raw = {}\n",
    "    data_all_raw['docID'] = []\n",
    "    data_all_raw['start'] = []\n",
    "    data_all_raw['end'] = []\n",
    "    data_all_raw['text'] = []\n",
    "    data_all_raw['label_id'] = []\n",
    "    data_all_raw['label_l1'] = []\n",
    "    data_all_raw['label_l2'] = []\n",
    "    data_all_raw['label_l3'] = []\n",
    "\n",
    "    for t in range(0, len(tasks)):\n",
    "        # Acquire Raw Data\n",
    "        data_raw = {}\n",
    "        data_raw['docID'] = []\n",
    "        data_raw['start'] = []\n",
    "        data_raw['end'] = []\n",
    "        data_raw['text'] = []\n",
    "        data_raw['label'] = []\n",
    "\n",
    "        for e in tasks[t]['annotations'][0]['result']:\n",
    "            data_raw['docID'].append(tasks[t]['id'])\n",
    "            data_raw['start'].append(e['value']['start'])\n",
    "            data_raw['end'].append(e['value']['end'])\n",
    "            data_raw['text'].append(e['value']['text'])\n",
    "            data_raw['label'].append(e['value']['labels'][0])\n",
    "\n",
    "        data = pd.DataFrame(data_raw)\n",
    "        data['id'] = list(range(0, data.shape[0]))\n",
    "\n",
    "        # Create distance Matrix\n",
    "        start_vec = np.array(data['start']).reshape((-1, 1))\n",
    "        helper = np.ones(len(start_vec)).reshape((1, -1))\n",
    "\n",
    "        A = np.matmul(start_vec, helper)\n",
    "\n",
    "        dist = A - A.T\n",
    "\n",
    "        # Create Groups which are most similar to each other\n",
    "        uncert = 10\n",
    "        grouping_vec = list()\n",
    "        for i in range(0, dist.shape[0]):\n",
    "            helper = list()\n",
    "            for j in range(0, dist.shape[0]):\n",
    "                if abs(dist[i][j]) < uncert: helper.append(j)\n",
    "            grouping_vec.append(helper)\n",
    "\n",
    "        grouping_vec = [list(x) for x in set(tuple(x) for x in grouping_vec)]\n",
    "\n",
    "        # Create dic with the values\n",
    "        for e in grouping_vec:\n",
    "            helper = data.loc[e, :]\n",
    "            data_all_raw['docID'].append(tasks[t]['id'])\n",
    "            data_all_raw['start'].append(helper['start'].min())\n",
    "            data_all_raw['end'].append(helper['start'].max())\n",
    "            data_all_raw['text'].append(\n",
    "                str(list(helper.loc[mylen(helper['text']) == mylen(helper['text']).max(), 'text'])[0]))\n",
    "            data_all_raw['label_id'].append(selectLabel(helper, \"ID\"))\n",
    "            data_all_raw['label_l1'].append(selectLabel(helper, \"_1_\"))\n",
    "            data_all_raw['label_l2'].append(selectLabel(helper, \"_2_\"))\n",
    "            data_all_raw['label_l3'].append(selectLabel(helper, \"_3_\"))\n",
    "\n",
    "    data_all = pd.DataFrame(data_all_raw)\n",
    "    strange_list = pd.DataFrame(strange_list)\n",
    "\n",
    "    data_all.to_csv(\"Data/all_data.csv\")\n",
    "    data_all.to_excel(\"Data/all_data.xlsx\")\n",
    "    strange_list.to_csv(\"Data/strange_list.csv\")\n",
    "    strange_list.to_excel(\"Data/strange_list.xlsx\")"
   ]
  },
  {
   "cell_type": "markdown",
   "metadata": {},
   "source": [
    "Prior to the important step of data preprocessing, the data must be downloaded and imported. This is handled by the ``` DataImport()``` function. First, it checks if a data save file exists and imports it into a data-frame. If that’s not the case (or the overwrite parameter is set to ```True```), the function will download the data and trigger a first step of pre-transformation of the data. \n",
    "\n",
    "This is done in the ```DataDownload()``` function. It downloads the data, which comes as a nested object (meaning object which contains many sub- and sub-sub-objects). The aim of the data pre-transformation is therefore the extraction of the relevant information from the downloaded data and representing as a convenient data-frame. In a first step the document ID, start and end as well as the text and label of each annotation in each document are saved in a list and then transformed to a data-frame. Annotation refers in this context to an individual label. Additionally, it is known that each text passage has to have four annotations. The question or answer ID as well as the label stage one to three. Therefore, the data-frame construction yields a “long” representation of the label data, meaning that each text passage occurs four times, one time for each label stage. \n",
    "\n",
    "The next step is therefore the transformation of this “long” representation into a “wide” representation, where for each text passage one row exists, and the four label stages are saved in four columns. Because of labeling errors, the text passages can contain additional characters at the beginning or end of the passage. Therefore, matching the text passages is not trivial. An easy solution is the calculation of absolute distances between the start points of each text passage and then grouping all text passages together which have a distance of less than 10 for example. In most cases this yields a list of four labels which belong to the same text passage. With regex matching the ID label and label stages can then be obtained and saved in the columns of a new data-frame. However, in some cases there are more or less labels than four for one text passage. In this case the ``` selectLabel()``` sub-function automatically applies two strategies to resolve this issue. If there are less than four labels, the missing labels are set to NA. If there are more than four labels, it will apply ```np.unique()``` which could lead to a reduction of labels if one label is used multiple times on the same text passage. Otherwise, if this does not lead to a reduction of labels it will list all labels for the current label-stage and select the first label in the list of multiple labels of the respective label stage. This leads to data loss, because the other labels can not be taken into account. However, it is impossible to identify the \"correct\" label without manual intervention. In order to give better insight into these non-standard situations and keep a protocol, the current label list is saved in a separate list called ```strange_list```. \n",
    "\n",
    "After this step is finished, the “wide” representation data-frame is saved as csv and the ```DataImport()``` function can proceed to import the now downloaded and pre-transformed data."
   ]
  },
  {
   "cell_type": "markdown",
   "metadata": {},
   "source": [
    "### Text Preprocessing and Processing"
   ]
  },
  {
   "cell_type": "code",
   "execution_count": null,
   "metadata": {},
   "outputs": [],
   "source": [
    "import pandas as pd\n",
    "import numpy as np\n",
    "import string\n",
    "import nltk\n",
    "from nltk.corpus import stopwords\n",
    "from nltk.tokenize import SpaceTokenizer\n",
    "from nltk.stem import WordNetLemmatizer\n",
    "import imblearn\n",
    "from imblearn.over_sampling import RandomOverSampler, SMOTE, BorderlineSMOTE, ADASYN\n",
    "\n",
    "\n",
    "def dataCheck(data: pd.DataFrame, keepNA: bool = False, keepOldIDs: bool = False) -> pd.DataFrame:\n",
    "    \"\"\"\n",
    "    Checks the data for missing values (na) and (optionally) removes them.\n",
    "\n",
    "    :param data: data object (pd.DataFrame)\n",
    "    :param keepNA: the rows containing nas are not dropped, the function then only returns the na count per column and number or rows containing at least one na\n",
    "    :param keepOldIDs: the pd.dropna function drops the rows containing nas, but does not change the indexing, which leads to missing index values. Therefore, for loops iterating over row-indices will not work anymore. Therefore, the index is replaces by a new index. If the old index is import it can be saved as column of the DataFrame\n",
    "    :return: DataFrame\n",
    "    \"\"\"\n",
    "    print(data.isna().sum())\n",
    "\n",
    "    rowwiseIsNA = np.vectorize(pd.isna)\n",
    "    rowwiseNA = rowwiseIsNA(data)\n",
    "    numRemovedRows = sum([any(row) for row in rowwiseNA])\n",
    "    prompt(f\"There will be {numRemovedRows} rows removed\")\n",
    "\n",
    "    if not keepNA:\n",
    "        data = data.dropna(axis = 0)\n",
    "        data = data.reset_index(drop=not keepOldIDs)\n",
    "\n",
    "    return data\n",
    "\n",
    "\n",
    "def textPreprocessing(data: pd.DataFrame, input_col: str = 'text', keepSteps: bool = True, keepOriginalData: bool = True) -> pd.DataFrame:\n",
    "    \"\"\"\n",
    "    Wrapper function for the text preprocessing. Applies the following text preprocessing steps:\n",
    "        1) removes capitalisation (output column of this step: 'proText_C')\n",
    "        2) removes punctuation (output column of this step: 'proText_CP')\n",
    "        3) removes stopwords (output column of this step: 'proText_CPS')\n",
    "        4) Lemmitazation (stemming) of the tokens (output column of this step: 'proText_CPSL')\n",
    "\n",
    "    :param data: data object (pd.DataFrame)\n",
    "    :param input_col: name of the column containing the original text\n",
    "    :param keepSteps: Boolean-Value which determines if the columns which results after each of the four steps are dropped or kept\n",
    "    :param keepOriginalData: Boolean-Value which determines if the original text data is saved or not\n",
    "    :return: Data Frame\n",
    "    \"\"\"\n",
    "    data = textCapitalisation(data)\n",
    "    data = textRmPunctuation(data)\n",
    "    data = textRmStopwords(data)\n",
    "    data = textLemmatization(data)\n",
    "\n",
    "    data[str(str(input_col) + \"_original\")] = data[input_col]\n",
    "    data[input_col] = data['proText_CPSL']\n",
    "\n",
    "    if not keepSteps:\n",
    "        data = data.drop(['proText_C', 'proText_CP', 'proText_CPS', 'proText_CPSL'], axis = 1)\n",
    "\n",
    "    if not keepOriginalData:\n",
    "        data = data.drop([str(str(input_col) + \"_original\")], axis = 1)\n",
    "\n",
    "    return data\n",
    "\n",
    "\n",
    "def textCapitalisation(data: pd.DataFrame, input_col: str = 'text', output_col: str ='proText_C') -> pd.DataFrame:\n",
    "    \"\"\"\n",
    "    Function which covers the removal of the capitalisation. Therefore, the np.vectorize function is used to create a new\n",
    "    function which returns an array of strings. Each element in this array of strings is created from one element of the\n",
    "    text column to which the str.lower function is applied. This procedure basically leads to an elementwise application\n",
    "    of the str.lower function. The results are then saved in a new column.\n",
    "\n",
    "    :param data: Data object (pd.DataFrame)\n",
    "    :param input_col: Name of the column containing the strings of the previous step.\n",
    "    :param output_col: Name of the column which will contain the texts after the application of the current step/transformation.\n",
    "    :return: DataFrame which includes a text colum where the punctuation was removed\n",
    "    \"\"\"\n",
    "    prompt(\"Starting removal of capitalization\")\n",
    "    rmCap = np.vectorize(str.lower)\n",
    "    data[output_col] = rmCap(data[input_col])\n",
    "\n",
    "    return data\n",
    "\n",
    "\n",
    "def textRmPunctuation(data: pd.DataFrame, input_col: str = 'proText_C', output_col: str = 'proText_CP') -> pd.DataFrame:\n",
    "    \"\"\"\n",
    "    Function which covers the removal of punctuation. Therefore, the punctuation, digits from the strings library and some\n",
    "    costume strings are used. With the help of the maketrans and translate function each punctuation and digit character\n",
    "    is removed (or rather replaced by '') in each text. Additionally, double spaces are replaced, which could result from\n",
    "    the removal of punctuation (e.x. \"We spend 100$ on xy.\" => \"We spend  on xy\"). Afterwards leading and trailing\n",
    "    spaces are removed from the texts.\n",
    "\n",
    "    :param data: Data object (pd.DataFrame)\n",
    "    :param input_col: Name of the column containing the strings of the previous step\n",
    "    :param output_col: Name of the column which will contain the texts after the application of the current step/transformation.\n",
    "    :return: DataFrame which includes a text colum where the punctuation was removed\n",
    "    \"\"\"\n",
    "    prompt(\"Starting removal of punctuation\")\n",
    "    for s in range(data.shape[0]):\n",
    "        data.loc[s, output_col] = data.loc[s, input_col].translate(str.maketrans({\".\": \". \", \",\": \", \", \"?\": \"? \", \"!\": \"! \"}))\n",
    "        data.loc[s, output_col] = data.loc[s, output_col].translate(\n",
    "            str.maketrans('', '', string.punctuation + string.digits + \"–\" + \"‘\"))  # .replace(\"'\", \"\")\n",
    "\n",
    "        data.loc[s, output_col] = str(data.loc[s, output_col]).replace('      ', ' ')\n",
    "        data.loc[s, output_col] = str(data.loc[s, output_col]).replace('     ', ' ')\n",
    "        data.loc[s, output_col] = str(data.loc[s, output_col]).replace('    ', ' ')\n",
    "        data.loc[s, output_col] = str(data.loc[s, output_col]).replace('   ', ' ')\n",
    "        data.loc[s, output_col] = str(data.loc[s, output_col]).replace('  ', ' ')\n",
    "\n",
    "    rmLeadSpace = np.vectorize(str.lstrip)\n",
    "    data[output_col] = rmLeadSpace(data[output_col])\n",
    "\n",
    "    return data\n",
    "\n",
    "\n",
    "def textRmStopwords(data: pd.DataFrame, input_col ='proText_CP', output_col ='proText_CPS') -> pd.DataFrame:\n",
    "    \"\"\"\n",
    "    Function which covers the removal of stopwords. For that the nltk packages is used which contains a list\n",
    "    of common (english) stopwords. To this list were some obviously missing words added. Because of the previous step,\n",
    "    the stopwords have to be stripped of their punctuation. Then each string element is seperated into its tokens and all\n",
    "    tokens which are in the list of stopwords are removed. Afterwards a new string is created. The results have shown\n",
    "    that some special characters where not removed correctly, therefore the punctuation is removed again.\n",
    "    After that the resulting word list and word frequency's in the corpus where analysed (upper 5% of word frequencies)\n",
    "    and a list of additional stopwords (with high frequencies) was created, which are then removed separately.\n",
    "\n",
    "    :param data: Data object (pd.DataFrame)\n",
    "    :param input_col: Name of the column containing the strings of the previous step.\n",
    "    :param output_col: Name of the column which will contain the texts after the application of the current step/transformation.\n",
    "    :return: DataFrame which includes a text colum where the stopwords were removed\n",
    "     \"\"\"\n",
    "    prompt(\"Starting removal of stopwords\")\n",
    "    nltk.download('stopwords')\n",
    "    nltk.download('punkt')\n",
    "\n",
    "    all_stopwords = stopwords.words('english')\n",
    "    all_stopwords.extend([\"i'm\", \"it'll\"])\n",
    "\n",
    "    all_stopwords_noPunc = []\n",
    "    for word in all_stopwords:\n",
    "        all_stopwords_noPunc.append(word.translate(str.maketrans('', '', string.punctuation + string.digits + \"–\")))\n",
    "\n",
    "    all_stopwords.extend(all_stopwords_noPunc)\n",
    "\n",
    "    tk = SpaceTokenizer()\n",
    "\n",
    "    for s in range(data.shape[0]):\n",
    "        tokens = tk.tokenize(data.loc[s, input_col])\n",
    "        tokens_noStop = [word for word in tokens if not word in all_stopwords]\n",
    "        data.loc[s, output_col] = (\" \").join(tokens_noStop)\n",
    "        data.loc[s, output_col] = data.loc[s, output_col].translate(\n",
    "            str.maketrans('', '', string.punctuation + string.digits + \"’\"))\n",
    "        data.loc[s, output_col] = str(data.loc[s, output_col]).replace('  ', ' ')\n",
    "\n",
    "    additional_stopwords = [\"were\", \"us\", \"going\", \"thats\", \"well\", \"weve\", \"one\", \"also\", \"q\", \"–\", \"still\", \"its\",\n",
    "                            \"g\", \"theyre\", \"may\", \"ill\", \"id\", \"dont\", \"ive\", \"cant\", \"theyve\", \"im\", \"youre\", \"hi\"]\n",
    "\n",
    "    for s in range(data.shape[0]):\n",
    "        tokens = tk.tokenize(data.loc[s, output_col])\n",
    "        tokens_noStop = [word for word in tokens if not word in additional_stopwords]\n",
    "        data.loc[s, output_col] = (\" \").join(tokens_noStop)\n",
    "\n",
    "    return data\n",
    "\n",
    "\n",
    "def textLemmatization(data: pd.DataFrame, input_col: str ='proText_CPS', output_col: str ='proText_CPSL') -> pd.DataFrame:\n",
    "    \"\"\"\n",
    "    Function which covers lemmatization. Again the nltk packages is used here. Each element in the text columns is again\n",
    "    seperated into its tokens and then the stem of the corresponding token is returned and combined back to a string.\n",
    "\n",
    "    :param data: Data object (pd.DataFrame)\n",
    "    :param input_col: Name of the column containing the strings of the previous step.\n",
    "    :param output_col: Name of the column which will contain the texts after the application of the current step/transformation.\n",
    "    :return: DataFrame which includes a text colum where the stemming was done\n",
    "    \"\"\"\n",
    "    prompt(\"Starting lemmatization\")\n",
    "    nltk.download('wordnet')\n",
    "    nltk.download('omw-1.4')\n",
    "\n",
    "    tk = SpaceTokenizer()\n",
    "    lemmatizer = WordNetLemmatizer()\n",
    "\n",
    "    for s in range(data.shape[0]):\n",
    "        tokens = tk.tokenize(data.loc[s, input_col])\n",
    "        data.loc[s, output_col] = (\" \").join([lemmatizer.lemmatize(w) for w in tokens])\n",
    "\n",
    "    return data\n",
    "\n",
    "\n",
    "def dataSelection(data: pd.DataFrame, label_stage: int, doc_type: str = 'question'):\n",
    "    \"\"\"\n",
    "    Function which handles the filtering of the data.\n",
    "\n",
    "    :param data: DataFrame of the data\n",
    "    :param label_stage: Integer value of the label stage (range from 1 to 3)\n",
    "    :param doc_type: Type of the document (range 'question', 'answer')\n",
    "    :return: returns a DataFrame with the filtered data\n",
    "    \"\"\"\n",
    "    label_stage_str = f\"label_l{label_stage}\"\n",
    "    type = {'question': 'QID', 'answer': 'AID'}\n",
    "    type_label = {'question': 'Question', 'answer': 'Answer'}\n",
    "    label_str = f\"{type_label[doc_type]}_{label_stage}\"\n",
    "\n",
    "    selection_id = data['label_id'].str.contains(type[doc_type])\n",
    "    selection_label = data[label_stage_str].str.contains(label_str)\n",
    "\n",
    "    return data.loc[[x&y for x, y in zip(selection_id, selection_label)], :]\n",
    "\n",
    "\n",
    "def dataSample(documentRep: pd.DataFrame, data: pd.DataFrame, method: str, n: int, col: str = 'label_l1', folds = 10) -> pd.DataFrame:\n",
    "    \"\"\"\n",
    "    Handles the data sampling.\n",
    "\n",
    "    :param documentRep: Document representation\n",
    "    :param data: dataset\n",
    "    :param method: method of sampling ('undersample', 'resample')\n",
    "    :param n: desired length of sampled data (obsolete for undersampling because the number of samples of the smallest group is set as n)\n",
    "    :param col: name of the target column\n",
    "    :param folds: Number of folds the data should be devided in. The fold number is determined by \"sample draw without replacement\" and is added as integer column to the resulting dataframe\n",
    "    :return: DataFrame of document representation in 'doc'-column and labels in 'labels'-column and the fold number in the 'fold'-column\n",
    "    \"\"\"\n",
    "    labels = np.unique(data[col])\n",
    "    label_counts = {}\n",
    "    for l in labels:\n",
    "        label_counts[l] = label_counts[l] = data[col].str.cat(sep = \" \").split().count(str(l))\n",
    "\n",
    "    data_groups = {}\n",
    "    for l in labels:\n",
    "        data_groups[l] = data.loc[data[col] == l, :].index\n",
    "\n",
    "    vectors = []\n",
    "    categories = []\n",
    "    if method == \"undersample\":\n",
    "        n = min(label_counts.values())\n",
    "        for l in labels:\n",
    "            vectors.extend(documentRep.loc[np.random.choice(data_groups[l], n, replace=True), :])\n",
    "            categories.extend(data.loc[np.random.choice(data_groups[l], n, replace=True), col])\n",
    "\n",
    "    elif method == \"resample\":\n",
    "        for l in labels:\n",
    "            vectors.extend(documentRep.loc[np.random.choice(data_groups[l], n, replace = True), :] )\n",
    "            categories.extend(data.loc[np.random.choice(data_groups[l], n, replace = True), col] )\n",
    "\n",
    "    elif method == 'random':\n",
    "        oversampler = RandomOverSampler(random_state = 42)\n",
    "        vectors, categories = oversampler.fit_resample(documentRep, data[col])\n",
    "\n",
    "    elif method == 'SMOTE':\n",
    "        oversampler = SMOTE(random_state = 42)\n",
    "        vectors, categories = oversampler.fit_resample(documentRep, data[col])\n",
    "\n",
    "    elif method == 'BorderlineSMOTE':\n",
    "        oversampler = BorderlineSMOTE(random_state = 42)\n",
    "        vectors, categories = oversampler.fit_resample(documentRep, data[col])\n",
    "\n",
    "    data_sample = pd.DataFrame()\n",
    "    n = len(categories)\n",
    "    fold_n = int(np.ceil(n / folds))\n",
    "    fold_vec = np.array([i+1 for i in range(folds)] * fold_n)\n",
    "    data_sample['doc'] = vectors.to_numpy().tolist()\n",
    "    data_sample['labels'] = categories\n",
    "    data_sample['fold'] = np.random.choice(fold_vec, n, replace = False)\n",
    "\n",
    "    return data_sample\n",
    "\n",
    "\n",
    "def dataSplit(data: pd.DataFrame, test_fold = 10):\n",
    "    \"\"\"\n",
    "    Handles the splitting of data (data and document representation that is, every data as long the row-index matches the doc-index)\n",
    "\n",
    "    :param data: DataFrame of data\n",
    "    :param test_fold: number of the fold, that should be used for the test data\n",
    "    :return: tuple of train and test data\n",
    "    \"\"\"\n",
    "    data = data.sample(frac=1)\n",
    "\n",
    "    #split_index = np.quantile(data.index, train_split_frac) # np.floor(train_split_frac * data.shape[0])\n",
    "    dataTrain, dataTest = data.loc[data['fold'] != test_fold, :], data.loc[data['fold'] == test_fold, :]\n",
    "    return dataTrain, dataTest\n",
    "\n",
    "\n",
    "def generateEncodingMatrix(data: pd.Series) -> pd.DataFrame:\n",
    "    \"\"\"\n",
    "    Generates a DataFrame which holds a 'index' column (number) and a 'value' column (labels). Each column can be set as index and therefore a translation between labels and number representation is possible.\n",
    "\n",
    "    :param data: Series of labels\n",
    "    :return: DataFrame\n",
    "    \"\"\"\n",
    "    labels = np.unique(data)\n",
    "    encoding_matrix = pd.DataFrame([[i, v] for i, v in enumerate(labels)], columns=['index', 'value'])\n",
    "    return encoding_matrix\n",
    "\n",
    "\n",
    "def dataEncoding(data: pd.Series, encoding_matrix: pd.DataFrame):\n",
    "    \"\"\"\n",
    "    Handles the encoding (translation from text labels to number representation) of the labels.\n",
    "\n",
    "    :param data: Series of (text) labels\n",
    "    :param encoding_matrix: encoding_matrix (see generateEncodingMatrix)\n",
    "    :return: array of encoded data\n",
    "    \"\"\"\n",
    "    return encoding_matrix.set_index('value').loc[data, 'index'].values\n",
    "\n",
    "\n",
    "def dataDecoder(data, encoding_matrix):\n",
    "    \"\"\"\n",
    "    Handles the decoding (translation from number representation labels to text labels) of the labels.\n",
    "\n",
    "    :param data: array/Series of numbers\n",
    "    :param encoding_matrix: encoding_matrix (see generateEncodingMatrix)\n",
    "    :return: array of decoded data\n",
    "    \"\"\"\n",
    "    return encoding_matrix.set_index('index').loc[data, 'value'].values"
   ]
  },
  {
   "cell_type": "markdown",
   "metadata": {},
   "source": [
    "Not all functions shown in this section are directly related to text preprocessing. Some of them also handle data processing, data sampling, text en- and decoding etc. and are therefore relevant at different points in the estimation timeline. The functions will thus be covered in a chronological fashion which is loosely related to their application in the whole data-pipeline. Starting with ```dataCheck()```. This function checks for missing values resulting from the data pre-transformation, calculates the number of rows which will be lost if every row with at least one NA is removed and optionally removes these rows (it can therefore also be used for so-called “dry-runs”). \n",
    "Next the ```textPreprocessing()``` function handles the text preprocessing, which includes:\n",
    "\n",
    "1. Removal of capitalization in ```textCapitalisation()```\n",
    "2. Removal of punctuation in ```textRmPunctuation()```\n",
    "3. Removal of stopwords in ```textRmStopwords()```\n",
    "4. Stemming in ```textLemmatization()```\n",
    "\n",
    "These steps are very well known, and their implementation is rather standard. ```textCapitalisation()``` uses a vectorized version of the ```str.lower()``` function to the vector of texts to remove the capitalization. ```textRmPunctuation()``` maps punctuation characters to punctuation character plus space (this has to be done because the DIN-norm is not strictly followed, where each “.”, “?”, “!”, “,” etc. has to be followed by a space. For example, in the text: ```Hello.World``` the removal of the “.” would lead to false word ```HelloWorld``` instead of two words ```Hello World```). Afterwards each character from ```string.punctuation``` is removed and multiple spaces following each other are also removed. Additionally, each text is trimmed, which means that leading and trailing spaces are removed from the text. ```textRmStopwords()``` takes a standard list of common stop words, provided by the nltk package and removes them from the word-list. In addition to that, the 5% most common words in this corpus where listed and a manually curated list of stop words is created and removed from the word-list. Last but not least, ```textLemmatization()``` then uses the nltk package again for the stemming step. Each word is thereby replaced by its stem-word.\n",
    "\n",
    "After the text-preprocessing, the next step in the data timeline, is the data selection, handled by the ```dataSelection()``` function. It takes as parameters the desired label stage and doc type (question or answer). With this information it is then possible to filter the data for a certain label stage. Next, the ```dataSample()``` function handles the sampling of the data. This is required because the groups in the selected label stage are unbalanced. The data sampling therefore uses one of multiple methods to construct a dataset with balanced groups. There are different sampling methods possible:\n",
    "\n",
    "* Undersampling: A random subset of the larger group is used, such that the groups have equal sizes.\n",
    "* Resampling: Bootstrapping-like approach where random draws from the underrepresented group are added until all groups are of equal size.\n",
    "* Oversampling: With methods like “SMOTE” or “BorderlineSMOTE” new observations for the underrepresented group are generated until all groups have the same size.\n",
    "\n",
    "Additionally, this function adds a column which holds the fold this observation belongs to. This is later used for splitting in train and test data and for cross-validating the methods.\n",
    "For the splitting of the data, the ```dataSplit()``` function is used. It selects a certain fold which is returned as test data.\n",
    "Lastly, there are three functions for encoding the labeled data. This means they handle the translation between labels and numerical representation of their labels. The ```generateEncodingMatrix()``` uses the unique labels in data to generate a data-frame where each label is matched to a unique number. The ```dataEncoding()``` function uses the encoding matrix and the labeled data to generate a vector with the numerical representation and the ```dataDecoding()``` function reverses this process."
   ]
  },
  {
   "cell_type": "markdown",
   "metadata": {},
   "source": [
    "## Performance Evaluation"
   ]
  },
  {
   "cell_type": "code",
   "execution_count": null,
   "metadata": {
    "collapsed": false,
    "jupyter": {
     "outputs_hidden": false
    },
    "pycharm": {
     "name": "#%%\n"
    }
   },
   "outputs": [],
   "source": [
    "import numpy as np\n",
    "import pandas as pd\n",
    "from sklearn.metrics import confusion_matrix\n",
    "from sklearn.metrics import roc_curve, auc, roc_auc_score\n",
    "import matplotlib.pylab as plt\n",
    "\n",
    "\n",
    "def calculateConfusionMatrix(data_true: pd.Series, data_pred: pd.Series, freq: bool = True) -> pd.DataFrame:\n",
    "    \"\"\"\n",
    "    Wrapper function for sklearn.metrics.confusion_matrix. It can additionally handle frequency representation of the confusion matrix.\n",
    "\n",
    "    :param data_true: Series of the true data\n",
    "    :param data_pred: Series of predicted data\n",
    "    :param freq: Boolean which determines if the returned confusion matrix should be in absolut values or frequency representation\n",
    "    :return: DataFrame of confusion matrix\n",
    "    \"\"\"\n",
    "    labels = np.unique(data_true)\n",
    "    con = confusion_matrix(data_true, data_pred, labels=labels)\n",
    "    if freq:\n",
    "        con = con / con.flatten().sum()\n",
    "\n",
    "    con = pd.DataFrame(con, columns=[\"pred \" + x for x in labels], index=labels)\n",
    "    return con\n",
    "\n",
    "\n",
    "def roc_measure(data: pd.DataFrame, encoding_matrix: pd.DataFrame, label_true: str, label_prob: str, plot_title: str, plot: bool = True):\n",
    "    '''\n",
    "    Function which handles the plot of the ROC curve as well as calculating and returning the area under the curve.\n",
    "\n",
    "    :param data: pd.DataFrame with all the data, but has to contain on column with the true labels and one column with the predicted probabilities\n",
    "    :param encoding_matrix: encoding matrix\n",
    "    :param label_true: Name of the column which contains the true labels\n",
    "    :param label_prob: Name of the colum which contains the predicted probabilities\n",
    "    :param plot_title: Title of the ROC plot\n",
    "    :param plot: boolean if a plot should be generated or not\n",
    "    :return: ROC curve and AUC metric\n",
    "    '''\n",
    "    data_true = data[label_true]\n",
    "    prop_pred = data[label_prob]\n",
    "\n",
    "    #binarize the data\n",
    "    y_coi = []\n",
    "\n",
    "    for label in range(data_true.shape[0]):\n",
    "        y = int(data_true.iloc[label] == encoding_matrix.set_index('index').loc[1, 'value'])\n",
    "        y_coi.append(y)\n",
    "\n",
    "    #calculate ROC and AUC measures\n",
    "    fpr, tpr, _ = roc_curve(y_true = y_coi, y_score = prop_pred)\n",
    "    area_under_curve = roc_auc_score(y_coi, prop_pred)\n",
    "\n",
    "    if plot:\n",
    "        #plot ROC curve\n",
    "        plt.figure()\n",
    "        lw = 2\n",
    "        plt.plot(\n",
    "            fpr,\n",
    "            tpr,\n",
    "            lw = lw\n",
    "        )\n",
    "        plt.plot([0, max(fpr)], [0, max(tpr)], color=\"black\", lw=lw, linestyle=\"--\")\n",
    "        plt.xlabel('False Positive Rate')\n",
    "        plt.ylabel('True Positive Rate')\n",
    "        plt.title(f'{plot_title}')\n",
    "        plt.show()\n",
    "\n",
    "    return area_under_curve"
   ]
  },
  {
   "cell_type": "markdown",
   "metadata": {},
   "source": [
    "In order to evaluate the performances across the word-embedding-classification combinations different metrics are implemented and explained in the following.\n",
    "\n",
    "\n",
    "The performance measures are based on the ability to look at a certain probability threshold more closely and to obtain results along the whole probability distribution of the results. The threshold determines the limit of the predicted probabilities from when a label is assigned to the category 1 (determined by one-hot-encoding in the ```generateEncodingMatrix()```), in our case \"Question_1_Company_specific\". Additionally metrics such as accuracy are conceivable but not applied for the sake of clarity.\n",
    "\n",
    "Therefore, the performance measures are the following:\n",
    "-\tConfusion matrices\n",
    "-\tReceiver operating characteristics (ROC)  \n",
    "-\tArea under curve (AUC)\n",
    "\n",
    "**Confusion matrices**\n",
    "\n",
    "The confusion matrix generation is implemented in the function ```calculateConfusionMatrix()``` and represents a wrapper function of the ```confusion_matrix()``` function from the sklearn library. The parameters used for the calculation are the actual underlying labels (data_true) and the predicted labels (data_pred). The input of the matrix is the classical positive (correctly specified labels “Question_1_Company_specific” and “Question_1_Market_related”) and negative (wrongly specified labels “Question_1_Company_specific” and “Question_1_Market_related”) measures. Then the confusion matrix can be seen as follows:\n",
    "\n",
    "\n",
    "\n",
    "|              |          pred Question_1_Company_specific           | pred Question_1_Market_related |\n",
    "|:-----------------:|:-------------------------:|:-----------------:|\n",
    "|     **Question_1_Company_specific**    |  $tp_{classifier}$   |      $fp_{classifier}$      |\n",
    "|     **Question_1_Market_related**    |  $fn_{classifier}$   |      $tn_{classifier}$     \n",
    "\n",
    "While tp stands for the true positives, fp for the false positives, fn for false negatives and tn for the true negatives.\n",
    "\n",
    "Additionally, the function allows a frequency-based representation of the results via the parameter “freq”. By default, the parameter is set to true. Then the entries of the confusion matrix are calculated by dividing the absolute frequencies of each of the four fields by the number of documents. This frequency representation becomes important given the fact that the category \"Question_1_Market_related\" is underrepresented, since 70% of the labels are \"Question_1_Company_specific\". \n",
    "\n",
    "\n",
    "**ROC (curve) and AUC**\n",
    "\n",
    "The ROC and AUC measures are calculated via ```roc_measure()```. The parameters are the dataset (```data```), the probability predictions (```prop_pred```) and an encoding matrix, created via the function ```generateEncodingMatrix()```, which is one-hot-encoding the labels (“Question_1_Company_specific”, “Question_1_Market_related”) into (1,0). This also requires the binarization of the true underlying labels in the dataset. Therefore, a list item ```y_coi``` (category of interest) is created , which is filled via a for loop which in turn appends 1 if the label is equal to “Question_1_Company_specific” and 0 otherwise. The next part of the function is about calculating the true positive rate (tpr) and the false positive rate (fpr) per probability by passing the list item ```y_coi``` and the probability predictions of the classifier into the function ```roc_curve()```.  The tpr and fpr are calculated as follows:\n",
    "\n",
    "$$tpr = \\frac{tp}{tp + fn} \\quad ,$$\n",
    "\n",
    "$$fpr = \\frac{fp}{tn + fp}$$\n",
    "\n",
    "To gain a broader view about the tpr vs. fpr distribution along the probability thresholds a plot is created which is typically called the “ROC-curve”. The plot shows the trade-off between correctly specified labels (“Question_1_Company_specific” predicted as “Question_1_Company_specific”), determined by the encoding matrix, and wrongly specified labels (e.g. “Question_1_Company_specific” predicted as “Question_1_Market_related”). The closer the curve is able to reach the coordinates (0,1) the better the results are. Further a random classifier is implemented in the form of a 45° line which originates in (0,0). \n",
    "\n",
    "Additionally, the AUC is calculated via the ```roc_auc_score()``` with the same parameters, while both functions are obtained by the sklearn library.  Then the AUC can be understood as the area under the roc curve and therefore the closer the number is to 1 the better are the results again. \n",
    "\n",
    "\n"
   ]
  },
  {
   "cell_type": "markdown",
   "metadata": {},
   "source": [
    "## Word Embedding Methods"
   ]
  },
  {
   "cell_type": "markdown",
   "metadata": {},
   "source": [
    "### Term-frequency inverse-document-frequency (tf-idf)"
   ]
  },
  {
   "cell_type": "code",
   "execution_count": null,
   "metadata": {
    "collapsed": false,
    "jupyter": {
     "outputs_hidden": false
    },
    "pycharm": {
     "name": "#%%\n"
    }
   },
   "outputs": [],
   "source": [
    "from collections.abc import Iterable\n",
    "from sklearn.feature_extraction.text import TfidfVectorizer\n",
    "import pandas as pd\n",
    "\n",
    "def tf_idf(corpus: Iterable):\n",
    "    \"\"\"\n",
    "    Function which generates a tf-idf representation of the corpus.\n",
    "\n",
    "    :param corpus: Iterable/list/array or pd.Series which holds the document-texts\n",
    "    :return: tf-idf matrix as dataframe\n",
    "    \"\"\"\n",
    "\n",
    "    prompt(\"Starting TfIdf algorithm\")\n",
    "    tfidf_vec = TfidfVectorizer()\n",
    "    tfidf = tfidf_vec.fit_transform(corpus)\n",
    "\n",
    "    mat_tfidf = tfidf.toarray()\n",
    "    df_tfidf = pd.DataFrame(data=mat_tfidf, columns=tfidf_vec.get_feature_names(), index=corpus.index)\n",
    "\n",
    "    return mat_tfidf, df_tfidf"
   ]
  },
  {
   "cell_type": "markdown",
   "metadata": {},
   "source": [
    "Having introduced the data processing, we will now discuss the selected methods that mathematically represent the words in the documents in different ways. A simple and at the same time frequently used method for converting text into a numerical form is the term-frequency inverse-document-frequency, tf-idf for short. The two terms \"term-frequency\" and \"inverse-document-frequency\" stand for two metrics that are multiplied together to determine a value for each word in a document: Both measures are briefly explained below.\n",
    "\n",
    "* **Term-frequency:** As the name suggests, this metric represents the frequency of a word in a given document. There are several ways to calculate this frequency, but the easiest is to count the occurrences of a word in a document.\n",
    "* **Inverse-document-frequency:** This metric indicates how frequent or rare a word is in the total number of documents. Mathematically, this frequency can be calculated by dividing the total number of documents by the number of documents containing the respective word and calculating the logarithm of this.\n",
    "\n",
    "If a word occurs very frequently in a document and is also found in many other documents, the tf-idf score approaches 0, otherwise it approaches 1. Thus, a high score indicates a high relevance of a word in a document. After tf-idf has been described in general terms, the next section deals with the concrete implementation of this word embedding technique, which can be seen above.\n",
    "\n",
    "The only argument that the function ```tf_idf()``` requires is the set of documents, also called corpus. Looking at the body of the function, the first thing to notice is that the tf-idf vectorizer is initialised from the well-known scikit-learn library. Due to the fact that the data has already been preprocessed, it is not necessary to set arguments such as ```stop_words``` or ```lowercase``` at this point. In the following step, the passed corpus is fed into the function ```fit_transform()``` to get the document-term matrix with the respective tf-idf scores as output. Afterwards, this output is converted into an array and a data-frame is created. At the end of the function, both are returned.\n"
   ]
  },
  {
   "cell_type": "markdown",
   "metadata": {},
   "source": [
    "### Latent Semantic Analysis (LSA)"
   ]
  },
  {
   "cell_type": "code",
   "execution_count": null,
   "metadata": {
    "collapsed": false,
    "jupyter": {
     "outputs_hidden": false
    },
    "pycharm": {
     "name": "#%%\n"
    }
   },
   "outputs": [],
   "source": [
    "from collections.abc import Iterable\n",
    "from sklearn.decomposition import TruncatedSVD\n",
    "import matplotlib.pyplot as plt\n",
    "import pandas as pd\n",
    "\n",
    "\n",
    "def LSA(corpus: Iterable, input_mat: Iterable):\n",
    "    \"\"\"\n",
    "    Function which generates a LSA representation of the corpus.\n",
    "\n",
    "    :param corpus: Iterable/list/array or pd.Series which holds the tf-idf matrix\n",
    "    :param input_mat: word-document matrix\n",
    "    :return: LSA matrix\n",
    "    \"\"\"\n",
    "\n",
    "    prompt(\"Starting LSA algorithm\")\n",
    "    numb_topics = getNumbTopics(input_mat)\n",
    "\n",
    "    lsa_model = TruncatedSVD(n_components=numb_topics, algorithm='arpack')\n",
    "\n",
    "    mat_lsa = lsa_model.fit_transform(input_mat)\n",
    "    df_lsa = pd.DataFrame(data=mat_lsa, index=corpus.index)\n",
    "\n",
    "    return df_lsa\n",
    "\n",
    "\n",
    "def getNumbTopics(input_mat: Iterable) -> int:\n",
    "    \"\"\"\n",
    "    Function which determines the appropriate number of components.\n",
    "\n",
    "    :param input_mat: Iterable/list/array or pd.Series which holds the tf-idf matrix\n",
    "    :return: Number of components\n",
    "    \"\"\"\n",
    "\n",
    "    list_var_explained = []\n",
    "    numb_topics = 0\n",
    "    flag = True\n",
    "    steps = [50, 100, 250, 500, 800, 1000, 1200]\n",
    "\n",
    "    for n in steps:\n",
    "\n",
    "        lsa_model = TruncatedSVD(n_components=n, algorithm='arpack')\n",
    "        doc_mat_lsa = lsa_model.fit(input_mat)\n",
    "        list_var_explained.append(doc_mat_lsa.explained_variance_ratio_.sum())\n",
    "\n",
    "        if(doc_mat_lsa.explained_variance_ratio_.sum() >= 0.7 and flag):\n",
    "            flag = False\n",
    "            numb_topics = n\n",
    "\n",
    "    plotExplainedVariance(steps, list_var_explained)\n",
    "\n",
    "    return numb_topics\n",
    "\n",
    "\n",
    "def plotExplainedVariance(steps, list_variance_explained):\n",
    "    \"\"\"\n",
    "    Function which plots the explained variance by n-components.\n",
    "\n",
    "    :param steps: List which holds different amounts of topics\n",
    "    :param list_variance_explained: List which holds the different explained variances\n",
    "    \"\"\"\n",
    "\n",
    "    plt.plot(steps, list_variance_explained)\n",
    "    plt.axhline(y=0.7, color='g', linestyle='-')\n",
    "    plt.xlabel('Number of Components')\n",
    "    plt.ylabel(\"Explained Variance\")\n",
    "    plt.title(\"Explained Variance by n-components\")\n",
    "    plt.show()"
   ]
  },
  {
   "cell_type": "markdown",
   "metadata": {},
   "source": [
    "The tf-idf matrix from above has two statistically unfavourable properties: On the one hand, it suffers from high dimensionality and, on the other hand, it is very sparse, i.e. a large part of the entries are zeros. To overcome this problem, Latent Semantic Analysis (LSA), also known as Latent Semantic Indexing (LSI), is applied in this project assignment. The heart of LSA is singular value decomposition (SVD), an advanced matrix algebra method for matrix factorization. SVD ensures that the original document-term matrix with dimensions (*n* x *d*) can be approximated by a new matrix with dimensions (*n* x *k*), where *k* < *d* holds. If the additional condition *k* < min{*n*, *d*} is given, which means that k is smaller than the number of documents and words in the data, the approach is called truncated SVD. Each row of the new matrix represents a document and each column a so-called topic (or component). Therefore, LSA falls under the category of topic models, where, as the name already suggests, it is assumed that each document can be described with a mixture of different topics. Finally, it is important to mention that these topics are latent variables, which means that they are unobservable and usually difficult to interpret.\n",
    "\n",
    "Turning to the implementation of the function ```LSA()```, it is noticeable that in addition to the corpus, an input matrix is also passed, which corresponds to the tf-idf text representation returned by function ```tfidf()``` described in the previous chapter. Due to the fact that the number of topics is not determined automatically, the auxiliary function ```getNumbTopics()``` is called first and takes the input matrix as argument. Within this auxiliary function, the matrix factorization takes place by using truncated SVD from the scikit-learn library, considering different topic sizes (50, 100, 250, etc.). Finally, the smallest topic size that allows to explain 70% or more of the variance of the original document-term matrix will be returned. Additionally, the auxiliary function ```plotExplainedVariance()``` generates a plot that gives an overview of the explained variance per topic size. The next step is to create an instance of the truncated SVD within the function ```LSA()```. Beside the number of topics the SVD solver \"arpack\" is set, which is the same as in the SciPy library (scipy.sparse.linalg.svds)  known from the lecture. Afterwards the truncated singular value decomposition is applied to the input matrix by calling the function ```fit_transform()```. This produces a new matrix, which has a lower dimensionality and contains latent topics as columns. Subsequently, a data-frame is generated from it, which is returned at the end of the function."
   ]
  },
  {
   "cell_type": "markdown",
   "metadata": {},
   "source": [
    "### Global Vectors (GloVe)"
   ]
  },
  {
   "cell_type": "code",
   "execution_count": null,
   "metadata": {
    "collapsed": false,
    "jupyter": {
     "outputs_hidden": false
    },
    "pycharm": {
     "name": "#%%\n"
    }
   },
   "outputs": [],
   "source": [
    "import numpy as np\n",
    "import itertools\n",
    "from collections.abc import Iterable\n",
    "import pandas as pd\n",
    "from tqdm import tqdm\n",
    "from os.path import exists\n",
    "import matplotlib.pylab as plt\n",
    "\n",
    "\n",
    "def generateContextDic(corpus: Iterable, window: int = 5) -> dict:\n",
    "    \"\"\"\n",
    "    Generates a dictionary which holds an array with all context words of every word in the vocabulary\n",
    "\n",
    "    :param corpus: List or array (or pd.Series) of documents (text entries)\n",
    "    :param window: The context window size (symmetrically around i)\n",
    "    :return: Dictionary of word (key) and context-word-arrays (values)\n",
    "    \"\"\"\n",
    "    context_dic = {}\n",
    "    vocab = pd.Series(corpus).str.cat(sep = \" \").split()\n",
    "    vocab = np.unique(vocab)\n",
    "\n",
    "    for word in vocab:\n",
    "        context_dic.setdefault(word, [])\n",
    "\n",
    "    for entry in corpus:\n",
    "        tokens = [np.NAN for i in range(window)] + entry.split() + [np.NAN for i in range(window)]\n",
    "        for i in range(window, len(tokens)-window):\n",
    "            scope = tokens[(i-window):(i+window+1)]\n",
    "            context_dic[scope.pop(window)].extend(scope)\n",
    "\n",
    "    return context_dic\n",
    "\n",
    "\n",
    "def generateCoOccurrenceMatrix(context_dic: dict):\n",
    "    \"\"\"\n",
    "    Function which generates the Co-Occurence-Matrix. It takes a context dictionary as input and then counts the words\n",
    "    in the context dictionary for each key-value pair.\n",
    "    Additionally, saves the resulting matrix as csv.\n",
    "\n",
    "    :param context_dic: Dictionary with the word context-array pairs.\n",
    "    :return: Matrix of the co-occurences\n",
    "    \"\"\"\n",
    "    vocab = context_dic.keys()\n",
    "    matrix = pd.DataFrame(np.zeros((len(vocab), len(vocab)), np.float64), index=vocab, columns=vocab)\n",
    "\n",
    "    for word in tqdm(vocab):\n",
    "        scope = pd.Series(context_dic[word]).dropna().str.cat(sep = \" \").split()\n",
    "        unique_terms = np.unique(scope)\n",
    "        for term in unique_terms:\n",
    "            matrix.loc[word, term] = scope.count(term)\n",
    "    matrix.to_csv(\"Data/GloVe_CoOcMatrix.csv\")\n",
    "    return matrix\n",
    "\n",
    "\n",
    "def GloVe(corpus: Iterable, overwrite: bool = False, eta: float = 0.00001, eta_bias: float = 0.00002, epochs: int = 20, set_seed: int = None, use_weights: bool = False, x_max = 100, alpha = 3/4, word_embedding_dim = 300):\n",
    "    \"\"\"\n",
    "    Function which handles the GloVe fitting.\n",
    "\n",
    "    :param corpus: Iterable/list/array or pd.Series which holds the document-texts\n",
    "    :param overwrite: Boolean which determines if the co-occurrence matrix is re-calculated and the old csv is overwritten (takes more time). Otherwise the co-occurance matrix is loeaded from the csv file (if it exists)\n",
    "    :param eta: learning rate for the gradient-updates of the word-embedding matrix's\n",
    "    :param eta_bias: learning rate for the gradient-updates of the bias vectors\n",
    "    :param epochs: number of fitting epochs\n",
    "    :param set_seed: (optional) seed, if None (default-value) then no seed is used\n",
    "    :param use_weights: Determines if the weights of the paper (see Jeffrey Pennington, Richard Socher, Christopher D. Manning: GloVe: Global Vectors for Word Representation) should be used.\n",
    "    :param x_max: cut-off point of the co-occurrences. Default is 100 as proposed in the paper\n",
    "    :param alpha: default value is 3/4 as proposed in the paper\n",
    "    :param word_embedding_dim: dimension of the word-embedding vectors\n",
    "    :return: tuple of context-word-embedding and target-word-embedding matrix\n",
    "    \"\"\"\n",
    "    prompt(\"Starting GloVe algorithm\")\n",
    "    if not exists(\"Data/GloVe_CoOcMatrix.csv\") or overwrite:\n",
    "        prompt(\"Starting generation of Co-Occurrence Matrix\")\n",
    "        cooc_matrix = generateCoOccurrenceMatrix(generateContextDic(corpus))\n",
    "    else:\n",
    "        prompt(\"Starting import of Co-Occurrence Matrix\")\n",
    "        cooc_matrix = pd.read_csv(\"Data/GloVe_CoOcMatrix.csv\", index_col = 0)\n",
    "\n",
    "    cooc_matrix = cooc_matrix + 1\n",
    "\n",
    "    if set_seed is not None:\n",
    "        np.random.seed(set_seed)\n",
    "\n",
    "    prompt(\"Starting random initialization of parameters\")\n",
    "    target_matrix = np.random.normal(size = len(cooc_matrix.index) * word_embedding_dim, scale = 0.25).reshape(len(cooc_matrix.index), word_embedding_dim)\n",
    "    context_matrix = np.random.normal(size = len(cooc_matrix.index) * word_embedding_dim, scale = 0.25).reshape(len(cooc_matrix.index), word_embedding_dim)\n",
    "    bias_context_vec = np.random.normal(size = len(cooc_matrix.index), scale = 0.25).reshape(len(cooc_matrix.index), 1)\n",
    "    bias_target_vec = np.random.normal(size=len(cooc_matrix.index), scale=0.25).reshape(len(cooc_matrix.index), 1)\n",
    "    iota = np.ones((len(cooc_matrix.index), 1))\n",
    "\n",
    "    target_matrix = np.array(target_matrix, dtype = np.float64)\n",
    "    context_matrix = np.array(context_matrix, dtype=np.float64)\n",
    "\n",
    "    def weighting(x, x_max, alpha):\n",
    "        if x < x_max:\n",
    "            return (x/x_max)**alpha\n",
    "        else:\n",
    "            return 1\n",
    "\n",
    "    if use_weights:\n",
    "        prompt(\"Starting the calculation of weights\")\n",
    "        weights = np.matrix([[weighting(float(e), x_max, alpha) for e in row] for row in cooc_matrix.values])\n",
    "    else:\n",
    "        weights = np.ones(cooc_matrix.shape)\n",
    "\n",
    "    def calLoss(weights, cooc_matrix, target_matrix, context_matrix, bias_context_vec, bias_target_vec):\n",
    "        \"\"\"Calculates the loss\"\"\"\n",
    "        J = np.matrix(np.multiply(weights, (np.matmul(target_matrix,  np.transpose(context_matrix)) + np.matmul(bias_context_vec, np.transpose(iota)) + np.matmul(bias_target_vec, np.transpose(iota)) - np.log(cooc_matrix.to_numpy()))**2)).flatten().sum()\n",
    "\n",
    "        return J\n",
    "\n",
    "    prompt(\"Starting calculation\")\n",
    "    loss_series = [calLoss(weights, cooc_matrix, target_matrix, context_matrix, bias_context_vec, bias_target_vec)]\n",
    "\n",
    "    for e in tqdm(range(epochs)):\n",
    "        C = -2 * np.multiply(weights, (np.log(cooc_matrix.to_numpy()) - np.matmul(target_matrix, np.transpose(context_matrix)) - np.matmul(bias_context_vec, np.transpose(iota)) - np.matmul(bias_target_vec, np.transpose(iota))))\n",
    "\n",
    "        gradient_target = np.matmul(C, context_matrix)\n",
    "        gradient_context = np.matmul(C, context_matrix)\n",
    "        gradient_bias_context_vec = np.matmul(C, iota)\n",
    "        gradient_bias_target_vec = np.matmul(C, iota)\n",
    "\n",
    "        target_matrix -= eta * gradient_target\n",
    "        context_matrix -= eta * gradient_context\n",
    "        bias_target_vec -= eta_bias * gradient_bias_target_vec\n",
    "        bias_context_vec -= eta_bias * gradient_bias_context_vec\n",
    "\n",
    "        loss_series.append(calLoss(weights, cooc_matrix, target_matrix, context_matrix, bias_context_vec, bias_target_vec))\n",
    "\n",
    "    plt.plot(pd.Series(loss_series).T)\n",
    "    plt.xlabel(\"Epochs\")\n",
    "    plt.ylabel(\"Loss\")\n",
    "    plt.title(\"Loss Series\")\n",
    "    plt.show()\n",
    "\n",
    "    return pd.DataFrame(context_matrix, index=cooc_matrix.index), pd.DataFrame(target_matrix, index =cooc_matrix.index)"
   ]
  },
  {
   "cell_type": "markdown",
   "metadata": {},
   "source": [
    "The Global-Vectors, or GloVe in short, algorithm was first published by Pennington, Socher and Manning in 2014. It belongs to the field of models which try to capture and account for contextual relationships in their word embeddings. Their main idea is that words with contextual relationships occur together. The shown implementation is inspired by the implementation of the lecture. However, it was transformed into a matrix representation to ensure lower runtime. This leads to a bias when compared to the implementation of the lecture, because the update step is only done once per epoch and not once for each element of the co-occurrence matrix. This should not be an issue however, because the loss-plot will show a convergence, which indicates that the algorithm is able to find an optimal solution despite the change. Continuing with the algorithm, as already explained the context is captured by the co-occurrences of words. Therefore, the first step is to calculate a co-occurrence matrix $\\mathbf{X}$, where each element $x_{i, j}$ states how often word $j$ appears in the context of word $i$. The first step is therefore the calculation of the co-occurrence matrix. For that the ```generateContextDic()``` function generates a dictionary with the unique words as keys and an array of all words in the context of this word. The ```generateCoOccurrenceMatrix()``` function then uses this dictionary to calculate the co-occurrences of each word and fills the output matrix. Additionally, the matrix is saved, such that this process does not have to be repeated every time (only when the underlying data changes, therefore the overwrite parameter). The whole GloVe fitting process is handled by the ```GloVe()``` function. At first there are multiple parameters which are randomly (or deterministicly) initialized. Given the length of the vocabulary $v$ and the word embedding size $r$, the following variables have to be initialized: $\\mathbf{W}_{(v \\times r)}$ and $\\widetilde{\\mathbf{W}}_{(v \\times r)}$ as the weighting or word embedding matrices of the word and the target word respectively. Additionally, two bias terms are also used: $\\mathbf{b}_{(v \\times 1)}$ and $\\widetilde{\\mathbf{b}}_{(v \\times 1)}$ and $\\mathbf{\\iota}_{(v \\times 1)}$ is initialized as column-vector of ones.\n",
    "The fitting process then aims to minimize the loss-function, such that the dot product of the two embedding matrices approximates the log of the contents of the co-occurrence matrix."
   ]
  },
  {
   "cell_type": "markdown",
   "metadata": {},
   "source": [
    "$$\\mathbf{W} \\widetilde{\\mathbf{W}}^T + \\mathbf{b} + \\widetilde{\\mathbf{b}} = log(\\mathbf{X})$$"
   ]
  },
  {
   "cell_type": "markdown",
   "metadata": {},
   "source": [
    "The loss-function can then be constructed as follows:\n",
    "\n",
    "$$L = \\mathbf{\\iota}^T \\left( \\mathbf{F} \\otimes \\left( \\mathbf{W} \\widetilde{\\mathbf{W}}^T + \\mathbf{b}\\mathbf{\\iota}^T + \\widetilde{\\mathbf{b}}\\mathbf{\\iota}^T - log(\\mathbf{X}) \\right)^2 \\right) \\mathbf{\\iota}$$\n",
    "\n",
    "where $\\mathbf{F}$ is a $(v \\times v)$ weighting matrix and $\\otimes$ describes an element-wise multiplication. This loss-function can then be derivated for each parameter (exemplary for $\\mathbf{W}$):\n",
    "\n",
    "$$\\triangledown \\mathbf{L}_W = \\frac{\\delta L}{\\delta \\mathbf{W}} = \\mathbf{C} \\mathbf{W} $$\n",
    "\n",
    "where \n",
    "\n",
    "$$\\mathbf{C} = -2 \\; \\mathbf{F} \\otimes \\left( log(\\mathbf{X}) - \\mathbf{W} \\widetilde{\\mathbf{W}}^T - \\mathbf{b}\\mathbf{\\iota}^T - \\widetilde{\\mathbf{b}} \\mathbf{\\iota}^T \\right)$$\n",
    "\n",
    "In the next step the update rule can be stated as:\n",
    "\n",
    "$$\\mathbf{W} \\leftarrow \\mathbf{W} - \\eta \\triangledown\\mathbf{L}_W$$\n",
    "\n",
    "The whole fitting and updating process is repeated for 20 epochs. Afterwards the loss plot is shown. The function then returns the two weighting matrices $\\mathbf{W}$ and $\\widetilde{\\mathbf{W}}$ as the word embedding."
   ]
  },
  {
   "cell_type": "markdown",
   "metadata": {},
   "source": [
    "### Word-to-Vector (W2V)"
   ]
  },
  {
   "cell_type": "code",
   "execution_count": null,
   "metadata": {
    "tags": []
   },
   "outputs": [],
   "source": [
    "import gensim\n",
    "import pandas as pd\n",
    "import string\n",
    "import tensorflow as tf\n",
    "import numpy as np\n",
    "\n",
    "\n",
    "def w2v_matrix(corpus: pd.Series, window_size: int, min_count: int, sg: int, vector_size: int):\n",
    "    '''\n",
    "    Function which handles the fitting of the word-to-vec algorithm.\n",
    "\n",
    "    :param corpus: data which includes the preprocessed text\n",
    "    :param window_size: window size which is used for the W2V model\n",
    "    :param min_count: minimum of count to be counted as\n",
    "    :param sg: 1 = skip-gram, 0 = CBOW\n",
    "    :param vector_size: vector_size which is used for the word embedding\n",
    "    :return: word embedding matrix per document, represented as a matrix\n",
    "    '''\n",
    "\n",
    "    #create unigrams\n",
    "    lst_corpus = []\n",
    "\n",
    "    for string in corpus:\n",
    "        lst_words = string.split()\n",
    "        lst_grams = [' '.join(lst_words[i:i+1])\n",
    "                     for i in range(0, len(lst_words), 1)]\n",
    "        lst_corpus.append(lst_grams)\n",
    "\n",
    "    #initialize tokenizer\n",
    "    tokenizer = tf.keras.preprocessing.text.Tokenizer(lower = True, split = \" \",\n",
    "                                                      oov_token = 'NaN')\n",
    "\n",
    "    #fit tokenizer\n",
    "    tokenizer.fit_on_texts(lst_corpus)\n",
    "\n",
    "    #create vocab\n",
    "    vocab = tokenizer.word_index\n",
    "\n",
    "    #create raw version of final matrix\n",
    "    embedding_matrix = pd.DataFrame(columns = [i for i in range(vector_size)], index = vocab.keys())\n",
    "\n",
    "    #initialize model\n",
    "    w2v = gensim.models.word2vec.Word2Vec(lst_corpus,\n",
    "                                          window=window_size, min_count=min_count, sg=sg,vector_size=vector_size)\n",
    "\n",
    "    for token in vocab.keys():\n",
    "        try:\n",
    "            #prompt(f\"calculate word embedding for the token {token}\")\n",
    "            embedding_matrix.loc[token] = w2v.wv[token]\n",
    "        except:\n",
    "            pass\n",
    "\n",
    "    return embedding_matrix"
   ]
  },
  {
   "cell_type": "markdown",
   "metadata": {},
   "source": [
    "\n",
    "The Word to Vec (W2V) method, originally presented by Mikolov et. al in 2013, is a another method of word embedding methods and is explained in the following. \n",
    "\n",
    "Basically the technique aims to present words in a numerical manner by calculating a vector for each word, while the size of the vector is set by the user. Additionally, Word to Vec can be applied in two different ways and therefore two different numerical representations per token are possible. The first option is called continuous-bag-of-words (CBOW) model while the second option is named Skip-Gram. The methods differentiate in the way, such that CBOW tries to predict a word given its context while Skip-Gram tries to predict the context given a word. Since Skip-Gram is used in this notebook for the Word to Vec word embedding it will be explained in the following.\n",
    "\n",
    "The Skip-Gram method applies a neural network with one hidden layer and a softmax function for the output layer. More specific the input values, which are represented by the number of words (or tokens), are transformed into hidden neurons which in turn generate a softmax output layer with again neurons in the amount of tokens. The softmax function models discrete probability distributions by preserving the dimension of its input vector. Additionally the input values are obtained by one-hot-encoding the center word (the word currently in focus) by applying 1 to the center word and 0 elsewhere.  \n",
    "In order to determine the hidden neurons $h$ from an input word a weight matrix $W$ is applied with the size of (tokens x hidden neurons), which rows are used as word vectors. Additionally a weight matrix $\\tilde{W}$ with the size (hidden neurons x tokens) is constructed for the probability estimations using the hidden neurons. Then the Skip-gram function sums up the (log) probabilities of the surrounding $n$ words to the left and to the right, which size can be controlled by a parameter as explained below, of the word. This way a conditional probability vector is obtained. \n",
    "\n",
    "The W2V implementation is explained in the following and implemented within the function `w2v_matrix()`.\n",
    "\n",
    "The function takes as input the ```corpus```, which is the preprocessed and selected textual representation of the data, the ```window_size``` which is the distance between the current and the predicted word, ```min_count``` which controls the minium frequency per word, ```sg``` determines the training algorithm (1 for skip-gram and CBOW otherwise) and the vector_size which determines, next to the number of tokens, the dimension of the word_embedding matrix. The standard setting within this notebook is a window_size of 5, a min_count of 1, the skip-gram algorithm and a vector_size of 300.\n",
    "\n",
    "In order to represent the textual information in a numerical way via W2V, similar to GloVe, a list of tokens has to be generated. in order to show a different method, implemented in the function `GloVe()`, a tokenizer is used. Prior, a list of unigrams is created out of each string in the corpus. This is done within a for loop which splits the string into each individual word and generates a list with unigrams per document (lst_grams), then the list is appended to the overall unigram list (lst_corpus). Finally the tokenizer from the tensorflow package is initialzed with `Tokenizer` and fitted to the generated unigram list via `fit_on_texts`. After the tokenizer is fitted a vocabulary (vocab) is built out of the tokenizer object with the command `word_index`. Since the general vocabulary structure is now implemented each token within vocab can be numerical represented by the W2V-technique. To do this a empty data-frame is constructed via pandas with the dimension of (tokens x vector_size). This way the output will be a numerical representation of each token represented by vectors of the amount of vector_size (300 in the standard setting).\n",
    "The matrix is filled via the `Word2Vec()` function from the gensim library and takes most of the functions parameters. After the model is initialized each word embedding is calculated and added to the ```embedding_matrix```, which is also the object that is returned by the function.\n",
    "\n"
   ]
  },
  {
   "cell_type": "markdown",
   "metadata": {},
   "source": [
    "### From Word Embeding to Document-Representation"
   ]
  },
  {
   "cell_type": "code",
   "execution_count": null,
   "metadata": {
    "collapsed": false,
    "jupyter": {
     "outputs_hidden": false
    },
    "pycharm": {
     "name": "#%%\n"
    }
   },
   "outputs": [],
   "source": [
    "import pandas as pd\n",
    "import numpy as np\n",
    "from tqdm import tqdm\n",
    "\n",
    "\n",
    "def docPresentation_alt(corpus: pd.Series, embedding_matrix: pd.DataFrame, method: str = 'sum') -> pd.DataFrame:\n",
    "    '''\n",
    "    Function which converts the word embedding into a document representation.\n",
    "\n",
    "    :param corpus: raw data which includes the preprocessed text\n",
    "    :param embedding_matrix: the matrix as result of the word embedding\n",
    "    :param method: Desired method for aggregating the word-embedding vectors to the document representation\n",
    "    :return: DataFrame of the dimension docs x vector_size which has as input the sum of each vector_size dimension of the embedding matrix per document\n",
    "    '''\n",
    "\n",
    "    vocab = corpus.str.cat(sep=\" \").split()\n",
    "    vocab = np.unique(vocab)\n",
    "\n",
    "    vector_size = embedding_matrix.shape[1]\n",
    "\n",
    "    doc_presentation = pd.DataFrame(columns=[i for i in range(vector_size)], index=corpus.index)\n",
    "\n",
    "    for i, doc in tqdm(zip(corpus.index, corpus)):\n",
    "        words = doc.split()\n",
    "        sum_helper = embedding_matrix.loc[words, :]\n",
    "\n",
    "        if method == \"sum\":\n",
    "            doc_presentation.loc[i, :] = sum_helper.sum(axis=0)\n",
    "        elif method == \"average\":\n",
    "            doc_presentation.loc[i, :] = sum_helper.mean(axis=0)\n",
    "\n",
    "    return doc_presentation"
   ]
  },
  {
   "cell_type": "markdown",
   "metadata": {},
   "source": [
    "All the shown methods aim at providing word embedings. This means that they can provide informations about words but not sequences of words or whole documents. Because the following classification methods aim at classifying documents a transformation of the word embeddings is required. The shown function ```docPresentation_alt()``` uses as parameters the word embedding and document informations. It iterates through the list of documents and for each document creates a data-frame consisting of the word embeddings of every word in the respective document. This leads to a document representation which incorporates the word information of every word. However this document information is somewhat unsuitable for the given task because of its high dimensionality, which is the reason why an aggregation step has to be done next. Depending on the selected method, default is \"sum\", the aggregation step aggregates the word-information of each word in a document, such that a single vector results, which acts as document representation and incorporates the aggregated information of every word in this document. The aggregation can either be the sum of all word embeddings or the average over all word embeddings. The function then returns a data-frame with all documents in the rows and the document embedding dimensions as columns."
   ]
  },
  {
   "cell_type": "markdown",
   "metadata": {
    "tags": []
   },
   "source": [
    "## Classifier"
   ]
  },
  {
   "cell_type": "markdown",
   "metadata": {},
   "source": [
    "### Linear-Classifier"
   ]
  },
  {
   "cell_type": "code",
   "execution_count": null,
   "metadata": {
    "collapsed": false,
    "jupyter": {
     "outputs_hidden": false
    },
    "pycharm": {
     "name": "#%%\n"
    }
   },
   "outputs": [],
   "source": [
    "import pandas as pd\n",
    "import numpy as np\n",
    "from sklearn.linear_model import LogisticRegression\n",
    "\n",
    "\n",
    "def classifierLinear(sampleTrain: pd.DataFrame, docRepresentation: pd.DataFrame, data: pd.Series,\n",
    "                     label_col: str = 'label_l1', prediction_suffix: str = \"_LINpred\", prob_suffix: str = \"_LINprob\"):\n",
    "    \"\"\"\n",
    "    Function for the whole classification process by logistic regression.\n",
    "\n",
    "    :param sampleTrain: pd.DataFrame containing a column for the document representation of the train data and a colum for the labels of the train data\n",
    "    :param docRepresentation: complete document representation (can be different from fitting data, i.e. all documents can be used)\n",
    "    :param data: complete dataset, can be different from the fitting data\n",
    "    :param label_col: name of the target colum\n",
    "    :param prediction_suffix: suffix for the prediction colum\n",
    "    :param prob_suffix: suffix for the probability colum\n",
    "    :return: dataframe with the original data plus the colum of predicted label data\n",
    "    \"\"\"\n",
    "\n",
    "    prompt(\"Starting Linear Classifier\")\n",
    "    unlist = lambda x: np.array([np.array(i) for i in np.array(x)])\n",
    "\n",
    "    docRepresentation = unlist(docRepresentation)\n",
    "    docRepTrain = unlist(sampleTrain['doc'])\n",
    "\n",
    "    X_train = np.array(docRepTrain)\n",
    "    X_test = np.array(docRepresentation)\n",
    "\n",
    "    y_train = sampleTrain['labels']\n",
    "\n",
    "    logit = LogisticRegression()\n",
    "    logit.fit(X_train, y_train)\n",
    "\n",
    "    pred_data = logit.predict(X_test)\n",
    "    pred_data_prob = logit.predict_proba(X_test)\n",
    "\n",
    "    pred_data_prob_marketrel = np.array(pred_data_prob)[:, 1]\n",
    "\n",
    "    data_ = pd.DataFrame()\n",
    "    data_[label_col] = data\n",
    "    data_[str(label_col + prediction_suffix)] = pred_data\n",
    "    data_[str(label_col + prob_suffix)] = pred_data_prob_marketrel\n",
    "\n",
    "    return data_"
   ]
  },
  {
   "cell_type": "markdown",
   "metadata": {
    "tags": []
   },
   "source": [
    "The first classification method to be mentioned is logistic regression, which belongs to the group of linear classifiers and aims to predict the probability of a certain event. Logistic regression can be understood as a base line model in the context of this project assignment, which means that it is both easy to set up and has a reasonable chance of delivering good results. Before moving on to the implementation of the model, let us first take a brief look at the mathematics behind it.\n",
    "\n",
    "Logistic regression is closely related to linear regression, so it is not surprising that the familiar regression line\n",
    "\n",
    "\\begin{equation}\n",
    "\ty_{i} = \\mathbf{x}_{i}^T\\boldsymbol{\\beta} = \\beta_{0} + \\beta_{1}x_{i1} +\\dots+ \\beta_{k}x_{ik}\n",
    "\\end{equation}\n",
    "\n",
    "plays also an important role here. However, the problem with this equation is that any value in $\\mathbb{R}$ can occur or to put it less formally values between minus and plus infinity are possible. Thus, this equation is not suitable for the prediction of probabilities, because, as is well known, these have the property of lying between 0 and 1. This is where the logistic function, also called the sigmoid function, comes into play. It maps values of $\\mathbb{R}$ to $[0,1]$ and can be formally described as follows:\n",
    "\n",
    "\\begin{equation}\n",
    "\tf(z) = \\frac{1}{1 + e^{-z}}\n",
    "\\end{equation}\n",
    "\n",
    "If the logistic function is now applied to the regression line $z_{i} = \\mathbf{x}_{i}^T\\boldsymbol{\\beta}$, this finally leads to the logistic regression algorithm\n",
    "\n",
    "\\begin{equation}\n",
    "\tf(z_{i}) = \\frac{1}{1 + e^{-z_{i}}} = \\frac{1}{1 + e^{-(\\mathbf{x}_{i}^T\\boldsymbol{\\beta})}}\n",
    "\\end{equation}\n",
    "\n",
    "ensuring that a number between 0 and 1 arises, regardless of the value of the variable $z_{i}$. To determine the best weights $\\boldsymbol{\\beta}$ of the linear model within the above equation, the maximum likelihood method is used instead of the least squares method. Lastly, it is important to add that logistic regression is not a classification model. It is a probability model, which's output, however, can be used for classification. \n",
    "\n",
    "Let's now proceed to the concrete implementation of the described model, represented by the function ```classifierLinear()```. As is usual for supervised learning algorithms, it is first necessary to define the input matrix (X) and the output vector (y), whereby a distinction must be made between the training and test data set. This distinction is already made by the transfer parameters, therefore the argument ```sampleTrain``` is defined. From this, the input and output data for the training is extracted and stored in the variables ```X_train``` and ```y_train```.  In contrast, the data to be used for prediction is passed with the argument ```docRepresentation``` and stored in the variable ```X_test```. After the input and output data have been prepared, the classification model is created by initialising an instance of the class ```LogisticRegression```. It can be seen that no parameters are set at this point, which means that the default settings are used. Once the model is built, it is trained using the function ```fit()```, i.e. that the weights $\\boldsymbol{\\beta}$ are determined. Based on the defined weights, the unseen data contained in the variable ```X_test``` can then be classified by the ```predict()``` function. In addition, the function ```predict_proba()``` is called, that returns a probability matrix. Hereby, it is possible to retrieve the probability for the question label \"market_related\" for each document. This step is only necessary for creating the ROC curve, which will be shown in a later chapter (\"Results of Linear-Classifier\") of this project assignment.  At the end of the function ```classifierLinear()``` , a data-frame is created that holds the actual label, the predicted label and the predicted probability of being market-related for each document in the test data set. "
   ]
  },
  {
   "cell_type": "markdown",
   "metadata": {},
   "source": [
    "### Neural-Network-Classifier"
   ]
  },
  {
   "cell_type": "code",
   "execution_count": null,
   "metadata": {
    "collapsed": false,
    "jupyter": {
     "outputs_hidden": false
    },
    "pycharm": {
     "name": "#%%\n"
    }
   },
   "outputs": [],
   "source": [
    "import tensorflow as tf\n",
    "import keras_tuner as kt\n",
    "import matplotlib.pyplot as plt\n",
    "import numpy as np\n",
    "import pandas as pd\n",
    "from Src.DataPreprocessing import generateEncodingMatrix, dataEncoding, dataDecoder\n",
    "\n",
    "\n",
    "def classifierNN(sampleTrain: pd.DataFrame, sampleTest: pd.DataFrame, docRepresentation: pd.DataFrame,  data: pd.DataFrame, encoding_matrix: pd.DataFrame, label_col: str ='label_l1',\n",
    "                 epochs: int = 20, prediction_suffix: str =\"_NNpred\", prob_suffix: str = \"_NNprob\", batch_size = 128, project_name = \"NNClassifier\", plot: bool = True, plot_title = \"\") -> pd.DataFrame:\n",
    "    \"\"\"\n",
    "    Wrapper function for the whole classification process by neural network.\n",
    "\n",
    "    :param sampleTrain: pd.DataFrame containing a column for the document representation of the train data and a column for the labels of the train data\n",
    "    :param sampleTest: pd.DataFrame containing a column for the document representation of the test data and a column for the labels of the test data\n",
    "    :param docRepresentation: document representation (can be different from fitting data, i.e. all documents can be used)\n",
    "    :param data: dataset, can be different from the fitting data\n",
    "    :param encoding_matrix: a metrix which determines the encoding of the labels (see Src.DataPreprocessing.generateEncodingMatrix)\n",
    "    :param label_col: name of the target colum\n",
    "    :param epochs: number of epochs\n",
    "    :param prediction_suffix: suffix for the prediction columns name\n",
    "    :param prob_suffix: suffix for the probability prediction columns name\n",
    "    :param batch_size: batch size, which is passed to the neural network\n",
    "    :param project_name: name which is set as project name for the keras tuner. It will create a new folder with this name to track the allready tested configurations\n",
    "    :param plot: Boolean which determines if a loss-plot should be created or not\n",
    "    :param plot_title: title of the loss plot which is created after the fitting of the nural network\n",
    "    :return: dataframe with the original data plus the colum of predicted label data\n",
    "    \"\"\"\n",
    "    prompt(\"Starting NN Classifier\")\n",
    "    label_col_enc = label_col + \"_enc\"\n",
    "    sampleTrain[label_col_enc] = dataEncoding(sampleTrain['labels'], encoding_matrix)\n",
    "    sampleTest[label_col_enc] = dataEncoding(sampleTest['labels'], encoding_matrix)\n",
    "    data_ = pd.DataFrame()\n",
    "    data_[label_col] = data\n",
    "    data_[label_col_enc] = dataEncoding(data, encoding_matrix)\n",
    "\n",
    "    unlist = lambda x: np.array([np.array(i) for i in np.array(x)])\n",
    "\n",
    "    docTrain = unlist(sampleTrain['doc'])\n",
    "    docTest = unlist(sampleTest['doc'])\n",
    "    docRepresentation = unlist(docRepresentation)\n",
    "\n",
    "    model = fitNN(docTrain, docTest, sampleTrain[label_col_enc], sampleTest[label_col_enc], epochs=epochs, batch_size=batch_size, project_name=project_name, plot = plot, plot_title = plot_title)\n",
    "\n",
    "    pred_data = model.predict(docRepresentation.astype('float32'))\n",
    "    pred_data = np.array(pred_data).reshape(-1)\n",
    "    pred_data_groups = np.floor(pred_data + 0.5).astype('int')\n",
    "    data_[str(label_col + prediction_suffix)] = dataDecoder(pred_data_groups, encoding_matrix)\n",
    "    data_[str(label_col + prob_suffix)] = pred_data\n",
    "\n",
    "    return data_\n",
    "\n",
    "\n",
    "def fitNN(docRepTrain: pd.DataFrame, docRepTest: pd.DataFrame, labelsTrain: pd.Series, labelsTest: pd.Series, epochs: int=20, batch_size = 128, project_name = \"NNClassifier\", plot: bool = True, plot_title = \"\"):\n",
    "    \"\"\"\n",
    "    Handles the fitting of the keras tuner and selects the best model. This model is then trained and returned.\n",
    "\n",
    "    :param docRepTrain: document representation of the train data\n",
    "    :param docRepTest: document representation of the test data\n",
    "    :param labelsTrain: series of labels of the train data\n",
    "    :param labelsTest: series of labels of the test data\n",
    "    :param epochs: number of epochs\n",
    "    :return: tensorflow model\n",
    "    \"\"\"\n",
    "\n",
    "    docRepTrain = np.matrix([np.array(i) for i in docRepTrain])\n",
    "    docRepTest = np.matrix([np.array(i) for i in docRepTest])\n",
    "\n",
    "    labelsTrain = labelsTrain.to_numpy()\n",
    "    labelsTest = labelsTest.to_numpy()\n",
    "\n",
    "    input_shape = docRepTrain.shape[1]\n",
    "\n",
    "    def createModel(hp):\n",
    "        \"\"\"\n",
    "        Handles the creation of the Neural Network, required for the keras tuner step.\n",
    "\n",
    "        :param hp: Hyper parameters of keras tuner\n",
    "        :return: NeuralNetwork\n",
    "        \"\"\"\n",
    "        nonlocal input_shape\n",
    "        input_layer = tf.keras.layers.Input(shape=(input_shape,))  #\n",
    "        output_layer = input_layer\n",
    "        output_layer = tf.keras.layers.Dense(hp.Choice('L1_Units', [100, 200, 300]),\n",
    "                                             activation=hp.Choice('L1_Act', [\"relu\", \"tanh\", \"linear\"]))(output_layer)\n",
    "        output_layer = tf.keras.layers.Dense(hp.Choice('L2_Units', [50, 100, 150]),\n",
    "                                             activation=hp.Choice('L2_Act', [\"relu\", \"tanh\", \"linear\"]))(output_layer)\n",
    "        output_layer = tf.keras.layers.Dense(hp.Choice('L3_Units', [25, 50, 75]),\n",
    "                                             activation=hp.Choice('L3_Act', [\"relu\", \"tanh\", \"linear\"]))(output_layer)\n",
    "        output_layer = tf.keras.layers.Dense(1, activation=\"sigmoid\")(output_layer)\n",
    "\n",
    "        learning_rate = hp.Float(\"lr\", min_value=1e-4, max_value=1e-2, sampling=\"log\")\n",
    "        model = tf.keras.Model(inputs=input_layer, outputs=output_layer)\n",
    "        model.compile(loss=\"binary_crossentropy\", optimizer=tf.keras.optimizers.Adam(learning_rate=learning_rate))\n",
    "\n",
    "        return model\n",
    "\n",
    "    prompt(\"Starting keras tuner\")\n",
    "    tuner = kt.BayesianOptimization(createModel, objective='val_loss', max_trials=5, overwrite=True,\n",
    "                                    project_name=project_name)\n",
    "    tuner.search(x=docRepTrain.astype('float32'), y=labelsTrain.reshape(-1, 1), epochs=10,\n",
    "                 validation_data=(docRepTest.astype('float32'), labelsTest.reshape(-1, 1)),\n",
    "                 batch_size=batch_size)\n",
    "\n",
    "    classifier_model = tuner.get_best_models()[0]\n",
    "\n",
    "    prompt(\"Fitting best model\")\n",
    "    history = classifier_model.fit(x=docRepTrain.astype('float32'), y=labelsTrain.reshape(-1, 1),\n",
    "                                   epochs=epochs,\n",
    "                                   validation_data=(\n",
    "                                       docRepTest.astype('float32'), labelsTest.reshape(-1, 1)),\n",
    "                                   batch_size=batch_size)\n",
    "\n",
    "    # History Plot\n",
    "    if plot:\n",
    "        plt.plot(history.history['loss'], label='loss')\n",
    "        plt.plot(history.history['val_loss'], label='validation_loss')\n",
    "        plt.xlabel(\"Epochs\")\n",
    "        plt.ylabel(\"Loss\")\n",
    "        plt.title(plot_title)\n",
    "        plt.legend()\n",
    "        plt.show()\n",
    "\n",
    "    return classifier_model"
   ]
  },
  {
   "cell_type": "markdown",
   "metadata": {},
   "source": [
    "As a second approach a neural-network (NN) is used to classify the documents. The implementation starts with the ```classifierNN()``` function which handles the whole fitting process and returns a data-frame with the true labels, the predicted labels and the probability of the predicted labels. For the fitting process the training and test data is required, which will be generated by the already covered ```dataSample()``` and  ```dataSplit()``` methods. The ```dataSplit()``` method returns two data-frames each of which contains one colum for the document representation and one column for the labels. In addition to the parameters required for the fitting process, there is another two parameters for document representation and label data. This differentiation allows for the separation of the fitting and prediction step, such that the data for the fitting of the model and the data for the final prediction process must not be equal. An exemplary usecase for that: fitting the model to the sampled data to avoid effects due to the unbalanced data, but predicting the labels for the original, not sampled dataset. \n",
    "\n",
    "The construction of the NN model is handled by ```fitNN()``` function. It utilizes a sub-function for the creation of the model and uses this model in a keras-tuner step in order to come up with an optimal set of hyperparameters. The model is created as follows: it utilizes five layers, an input-layer, three hidden-layers and a output-layer with sigmoid activation in order to obtain a probability prediction for the encoded label data. The three hidden-layers can use either \"relu\", \"tanh\" or \"linear\" activation functions, the selection is done in the keras-tuner step and therefore depends on the model performance. The hidden-layers can also be set to have different numbers of nodes. The first one can use between 300 and 100 nodes, which equals a first condensing of the input-nodes. The second can then use between 50 and 150 and the third can use between 25 and 75. Each hidden-layer therefore serves the purpose of condensing the information down until it reaches the last layer. The last layer then condenses the information into a single node. Again the selection of nodes for each layer is done by the keras-tuner. After the setup the model is compiled with the \"binary crossentropy\" loss-function because it faces a binary classification task. \n",
    "\n",
    "Next the model is fed to the keras-tuner. For this task a BayesianOptimizer was chosen, which not only tries different hyperparameter combinations but also tracks which changes lead to an improvement and tries to derivate an improved hyperparameter-set for the next trail. In total it uses five trails to find an optimal set of hyperparameters. After one optimal model is found, this model is fitted and then returned. Additionally a loss plot can be created with a predefined title. Following the model creation, optimization and fitting is the prediction using the seperate dataset. Due to the fact that the model returns probability prediction the next step is the transformation of the probability prediction to a label prediction. For that a 50% probability threshold is set (driven by the assumption of nearly balanced data during the fitting step). After a binary signal is derived from the probabilities, the previously described ```dataDecoder()``` function returns the labels and output data-frame is constructed and returned."
   ]
  },
  {
   "cell_type": "markdown",
   "metadata": {},
   "source": [
    "## Application and Results"
   ]
  },
  {
   "cell_type": "markdown",
   "metadata": {},
   "source": [
    "### Application"
   ]
  },
  {
   "cell_type": "code",
   "execution_count": null,
   "metadata": {
    "collapsed": false,
    "jupyter": {
     "outputs_hidden": false
    },
    "pycharm": {
     "name": "#%%\n"
    }
   },
   "outputs": [
    {
     "name": "stdout",
     "output_type": "stream",
     "text": [
      "----------------------------- Starting data import -----------------------------\n",
      "\n",
      "docID        0\n",
      "start        0\n",
      "end          0\n",
      "text         0\n",
      "label_id    15\n",
      "label_l1    17\n",
      "label_l2    18\n",
      "label_l3    26\n",
      "dtype: int64\n",
      "------------------------ There will be 43 rows removed -------------------------\n",
      "\n",
      "---------------------- Starting removal of capitalization ----------------------\n",
      "\n",
      "----------------------- Starting removal of punctuation ------------------------\n",
      "\n",
      "------------------------ Starting removal of stopwords -------------------------\n",
      "\n"
     ]
    },
    {
     "name": "stderr",
     "output_type": "stream",
     "text": [
      "[nltk_data] Downloading package stopwords to\n",
      "[nltk_data]     /Users/juliandietlmeier/nltk_data...\n",
      "[nltk_data]   Package stopwords is already up-to-date!\n",
      "[nltk_data] Downloading package punkt to\n",
      "[nltk_data]     /Users/juliandietlmeier/nltk_data...\n",
      "[nltk_data]   Package punkt is already up-to-date!\n"
     ]
    },
    {
     "name": "stdout",
     "output_type": "stream",
     "text": [
      "---------------------------- Starting lemmatization ----------------------------\n",
      "\n"
     ]
    },
    {
     "name": "stderr",
     "output_type": "stream",
     "text": [
      "[nltk_data] Downloading package wordnet to\n",
      "[nltk_data]     /Users/juliandietlmeier/nltk_data...\n",
      "[nltk_data]   Package wordnet is already up-to-date!\n",
      "[nltk_data] Downloading package omw-1.4 to\n",
      "[nltk_data]     /Users/juliandietlmeier/nltk_data...\n",
      "[nltk_data]   Package omw-1.4 is already up-to-date!\n"
     ]
    }
   ],
   "source": [
    "# General Import\n",
    "import numpy as np\n",
    "import pandas as pd\n",
    "from tqdm import tqdm\n",
    "\n",
    "data = DataImport()\n",
    "\n",
    "data = dataCheck(data)\n",
    "\n",
    "data = textPreprocessing(data)\n",
    "\n",
    "data = dataSelection(data, label_stage=1, doc_type='question')\n",
    "\n",
    "corpus = data['text']"
   ]
  },
  {
   "cell_type": "code",
   "execution_count": null,
   "metadata": {
    "collapsed": false,
    "jupyter": {
     "outputs_hidden": false
    },
    "pycharm": {
     "name": "#%%\n"
    }
   },
   "outputs": [
    {
     "name": "stdout",
     "output_type": "stream",
     "text": [
      "--------------------------- Starting TfIdf algorithm ---------------------------\n",
      "\n"
     ]
    },
    {
     "name": "stderr",
     "output_type": "stream",
     "text": [
      "/opt/homebrew/Caskroom/miniforge/base/envs/DataSciPy_fast/lib/python3.9/site-packages/sklearn/utils/deprecation.py:87: FutureWarning: Function get_feature_names is deprecated; get_feature_names is deprecated in 1.0 and will be removed in 1.2. Please use get_feature_names_out instead.\n",
      "  warnings.warn(msg, category=FutureWarning)\n"
     ]
    }
   ],
   "source": [
    "mat_tfidf, tfidf_doc = tf_idf(corpus)"
   ]
  },
  {
   "cell_type": "code",
   "execution_count": null,
   "metadata": {
    "collapsed": false,
    "jupyter": {
     "outputs_hidden": false
    },
    "pycharm": {
     "name": "#%%\n"
    }
   },
   "outputs": [
    {
     "name": "stdout",
     "output_type": "stream",
     "text": [
      "---------------------------- Starting LSA algorithm ----------------------------\n",
      "\n"
     ]
    },
    {
     "data": {
      "image/png": "[encoded data removed]",
      "text/plain": [
       "<Figure size 432x288 with 1 Axes>"
      ]
     },
     "metadata": {
      "needs_background": "light"
     },
     "output_type": "display_data"
    }
   ],
   "source": [
    "lsa_doc = LSA(corpus, mat_tfidf)"
   ]
  },
  {
   "cell_type": "code",
   "execution_count": null,
   "metadata": {
    "collapsed": false,
    "jupyter": {
     "outputs_hidden": false
    },
    "pycharm": {
     "name": "#%%\n"
    }
   },
   "outputs": [
    {
     "name": "stdout",
     "output_type": "stream",
     "text": [
      "--------------------------- Starting GloVe algorithm ---------------------------\n",
      "\n",
      "------------------- Starting import of Co-Occurrence Matrix --------------------\n",
      "\n",
      "----------------- Starting random initialization of parameters -----------------\n",
      "\n",
      "----------------------------- Starting calculation -----------------------------\n",
      "\n"
     ]
    },
    {
     "name": "stderr",
     "output_type": "stream",
     "text": [
      "100%|██████████| 40/40 [00:57<00:00,  1.43s/it]\n"
     ]
    },
    {
     "data": {
      "image/png": "[encoded data removed]",
      "text/plain": [
       "<Figure size 432x288 with 1 Axes>"
      ]
     },
     "metadata": {
      "needs_background": "light"
     },
     "output_type": "display_data"
    },
    {
     "name": "stderr",
     "output_type": "stream",
     "text": [
      "1286it [00:00, 1883.47it/s]\n"
     ]
    }
   ],
   "source": [
    "context_matrix, target_matrix = GloVe(corpus, epochs=40, eta=0.0001, overwrite=False)\n",
    "glove_doc = docPresentation_alt(corpus=corpus, embedding_matrix=context_matrix + target_matrix)"
   ]
  },
  {
   "cell_type": "code",
   "execution_count": null,
   "metadata": {
    "collapsed": false,
    "jupyter": {
     "outputs_hidden": false
    },
    "pycharm": {
     "name": "#%%\n"
    }
   },
   "outputs": [
    {
     "name": "stderr",
     "output_type": "stream",
     "text": [
      "1286it [00:12, 100.02it/s]\n"
     ]
    }
   ],
   "source": [
    "w2v_embedding = w2v_matrix(corpus=corpus, window_size=5, min_count=1, sg=1, vector_size=300)\n",
    "w2v_doc = docPresentation_alt(corpus=corpus, embedding_matrix=w2v_embedding)"
   ]
  },
  {
   "cell_type": "code",
   "execution_count": null,
   "metadata": {
    "collapsed": false,
    "jupyter": {
     "outputs_hidden": false
    },
    "pycharm": {
     "name": "#%%\n"
    }
   },
   "outputs": [],
   "source": [
    "# Data Prep\n",
    "sample_method = \"SMOTE\"\n",
    "nfolds = 10\n",
    "encoding_matrix = generateEncodingMatrix(data['label_l1'])\n",
    "\n",
    "tfidf_sample = dataSample(tfidf_doc, data, method=sample_method, n=0, folds=nfolds)\n",
    "lsa_sample = dataSample(lsa_doc, data, method=sample_method, n=0, folds=nfolds)\n",
    "glove_sample = dataSample(glove_doc, data, method=sample_method, n=0, folds=nfolds)\n",
    "w2v_sample = dataSample(w2v_doc, data, method=sample_method, n=0, folds=nfolds)\n",
    "\n",
    "# Sample Split:\n",
    "convert_to_dic = lambda x: {l: i for l, i in zip(['dataTrain', 'dataTest'], x)}\n",
    "\n",
    "tfidf_data = convert_to_dic(dataSplit(tfidf_sample))\n",
    "lsa_data = convert_to_dic(dataSplit(lsa_sample))\n",
    "glove_data = convert_to_dic(dataSplit(glove_sample))\n",
    "w2v_data = convert_to_dic(dataSplit(w2v_sample))"
   ]
  },
  {
   "cell_type": "markdown",
   "metadata": {},
   "source": [
    "Prior to the discussion of the results, the data has to be imported and the word embedding methods have to be fitted. Firstly the data is imported, checked and preprocessed via the functions ```DataImport()```, ```dataCheck()``` and ```textPreprocessing()```, which were discussed in the first chapters. In addition, the word embeddings tf-idf, LSA, GloVe and Word to Vec are calculated and saved in different data-frames and transformed into document presentations via the function ```docPresentation_alt()``` (please note that the suffix “_alt” stands for an alternative function for the original document presentation function implemented by the authors, but only the alternative is used). After the document presentations, which serve as input for the classifiers, are constructed the data has to be prepared for further processing. Additionally, the encoding matrix is constructed via ```generateEncodingMatrix()```. In order to counteract the effects of the unbalanced data, the data gets oversampled by the “SMOTE” method. This is done with the help of the ```dataSample()``` function, which has the document presentation, the label data as well as the sampling method as input parameters. The function additionally has the parameter ```folds```, which determines the number of folds which should be used and are utilized for cross validation, which is covered in the comparison chapter. Finally the data is splitted into test and train data, which are combined in a dictionary via the lambda function ```convert_to_dic()```.\n",
    "\n",
    "In the following the results for the two classifiers are shown seperatly. Main focus is thereby on the in-sample fit, which is the reason why the whole dataset is used for each performance evaluation. This shows how well the models fit to the already known data and how well they can deal with the unbalanced data. Afterwards the out-of-sample performance differences between the classfiers are discussed. For that a cross-validation aproach was used in order to get an average picture of the out-of-sample error."
   ]
  },
  {
   "cell_type": "markdown",
   "metadata": {},
   "source": [
    "### Results of Linear-Classifier"
   ]
  },
  {
   "cell_type": "code",
   "execution_count": null,
   "metadata": {
    "collapsed": false,
    "jupyter": {
     "outputs_hidden": false
    },
    "pycharm": {
     "name": "#%%\n"
    }
   },
   "outputs": [
    {
     "name": "stdout",
     "output_type": "stream",
     "text": [
      "-------------------------- Starting Linear Classifier --------------------------\n",
      "\n",
      "-------------------------- Starting Linear Classifier --------------------------\n",
      "\n",
      "-------------------------- Starting Linear Classifier --------------------------\n",
      "\n",
      "-------------------------- Starting Linear Classifier --------------------------\n",
      "\n"
     ]
    },
    {
     "name": "stderr",
     "output_type": "stream",
     "text": [
      "/opt/homebrew/Caskroom/miniforge/base/envs/DataSciPy_fast/lib/python3.9/site-packages/sklearn/linear_model/_logistic.py:814: ConvergenceWarning: lbfgs failed to converge (status=1):\n",
      "STOP: TOTAL NO. of ITERATIONS REACHED LIMIT.\n",
      "\n",
      "Increase the number of iterations (max_iter) or scale the data as shown in:\n",
      "    https://scikit-learn.org/stable/modules/preprocessing.html\n",
      "Please also refer to the documentation for alternative solver options:\n",
      "    https://scikit-learn.org/stable/modules/linear_model.html#logistic-regression\n",
      "  n_iter_i = _check_optimize_result(\n"
     ]
    }
   ],
   "source": [
    "# Fit classifier\n",
    "data_tfidf_lin = classifierLinear(tfidf_data['dataTrain'], tfidf_doc, data['label_l1'].copy())\n",
    "data_lsa_lin = classifierLinear(lsa_data['dataTrain'], lsa_doc, data['label_l1'].copy())\n",
    "data_glove_lin = classifierLinear(glove_data['dataTrain'], glove_doc, data['label_l1'].copy())\n",
    "data_w2v_lin = classifierLinear(w2v_data['dataTrain'], w2v_doc, data['label_l1'].copy())"
   ]
  },
  {
   "cell_type": "code",
   "execution_count": null,
   "metadata": {
    "collapsed": false,
    "jupyter": {
     "outputs_hidden": false
    },
    "pycharm": {
     "name": "#%%\n"
    }
   },
   "outputs": [
    {
     "data": {
      "image/png": "[encoded data removed]",
      "text/plain": [
       "<Figure size 432x288 with 1 Axes>"
      ]
     },
     "metadata": {
      "needs_background": "light"
     },
     "output_type": "display_data"
    },
    {
     "data": {
      "image/png": "[encoded data removed]",
      "text/plain": [
       "<Figure size 432x288 with 1 Axes>"
      ]
     },
     "metadata": {
      "needs_background": "light"
     },
     "output_type": "display_data"
    },
    {
     "data": {
      "image/png": "[encoded data removed]",
      "text/plain": [
       "<Figure size 432x288 with 1 Axes>"
      ]
     },
     "metadata": {
      "needs_background": "light"
     },
     "output_type": "display_data"
    },
    {
     "data": {
      "image/png": "[encoded data removed]",
      "text/plain": [
       "<Figure size 432x288 with 1 Axes>"
      ]
     },
     "metadata": {
      "needs_background": "light"
     },
     "output_type": "display_data"
    }
   ],
   "source": [
    "# Performance Evaluation\n",
    "conf_matrix_tfidf = calculateConfusionMatrix(data_tfidf_lin['label_l1'], data_tfidf_lin['label_l1_LINpred'])\n",
    "auc_tfidf = roc_measure(data_tfidf_lin, encoding_matrix, label_true = 'label_l1', label_prob = 'label_l1_LINprob', plot_title = 'TfIdf - ROC Curve')\n",
    "\n",
    "conf_matrix_lsa = calculateConfusionMatrix(data_lsa_lin['label_l1'], data_lsa_lin['label_l1_LINpred'])\n",
    "auc_lsa = roc_measure(data_lsa_lin, encoding_matrix, label_true = 'label_l1', label_prob = 'label_l1_LINprob', plot_title = 'LSA - ROC Curve')\n",
    "\n",
    "conf_matrix_glove = calculateConfusionMatrix(data_glove_lin['label_l1'], data_glove_lin['label_l1_LINpred'])\n",
    "auc_glove = roc_measure(data_glove_lin, encoding_matrix, label_true = 'label_l1', label_prob = 'label_l1_LINprob', plot_title = 'GloVe - ROC Curve')\n",
    "\n",
    "conf_matrix_w2v = calculateConfusionMatrix(data_w2v_lin['label_l1'], data_w2v_lin['label_l1_LINpred'])\n",
    "auc_w2v = roc_measure(data_w2v_lin, encoding_matrix, label_true = 'label_l1', label_prob = 'label_l1_LINprob', plot_title = 'Word to Vec - ROC Curve')\n",
    "\n",
    "AUC_res = pd.DataFrame([auc_tfidf, auc_lsa, auc_glove, auc_w2v], index = ['TfIdf', 'LSA', 'GloVe', 'W2V'], columns = [\"AUC\"])"
   ]
  },
  {
   "cell_type": "code",
   "execution_count": null,
   "metadata": {
    "collapsed": false,
    "jupyter": {
     "outputs_hidden": false
    },
    "pycharm": {
     "name": "#%%\n"
    }
   },
   "outputs": [
    {
     "data": {
      "text/html": [
       "<style type=\"text/css\">\n",
       "</style>\n",
       "<table id=\"T_185ad_\" style='display:inline'>\n",
       "  <caption>TfIdf</caption>\n",
       "  <thead>\n",
       "    <tr>\n",
       "      <th class=\"blank level0\" >&nbsp;</th>\n",
       "      <th class=\"col_heading level0 col0\" >pred Question_1_Company_specific</th>\n",
       "      <th class=\"col_heading level0 col1\" >pred Question_1_Market_related</th>\n",
       "    </tr>\n",
       "  </thead>\n",
       "  <tbody>\n",
       "    <tr>\n",
       "      <th id=\"T_185ad_level0_row0\" class=\"row_heading level0 row0\" >Question_1_Company_specific</th>\n",
       "      <td id=\"T_185ad_row0_col0\" class=\"data row0 col0\" >0.660964</td>\n",
       "      <td id=\"T_185ad_row0_col1\" class=\"data row0 col1\" >0.044323</td>\n",
       "    </tr>\n",
       "    <tr>\n",
       "      <th id=\"T_185ad_level0_row1\" class=\"row_heading level0 row1\" >Question_1_Market_related</th>\n",
       "      <td id=\"T_185ad_row1_col0\" class=\"data row1 col0\" >0.032659</td>\n",
       "      <td id=\"T_185ad_row1_col1\" class=\"data row1 col1\" >0.262053</td>\n",
       "    </tr>\n",
       "  </tbody>\n",
       "</table>\n",
       "   <style type=\"text/css\">\n",
       "</style>\n",
       "<table id=\"T_8387a_\" style='display:inline'>\n",
       "  <caption>LSA</caption>\n",
       "  <thead>\n",
       "    <tr>\n",
       "      <th class=\"blank level0\" >&nbsp;</th>\n",
       "      <th class=\"col_heading level0 col0\" >pred Question_1_Company_specific</th>\n",
       "      <th class=\"col_heading level0 col1\" >pred Question_1_Market_related</th>\n",
       "    </tr>\n",
       "  </thead>\n",
       "  <tbody>\n",
       "    <tr>\n",
       "      <th id=\"T_8387a_level0_row0\" class=\"row_heading level0 row0\" >Question_1_Company_specific</th>\n",
       "      <td id=\"T_8387a_row0_col0\" class=\"data row0 col0\" >0.590202</td>\n",
       "      <td id=\"T_8387a_row0_col1\" class=\"data row0 col1\" >0.115086</td>\n",
       "    </tr>\n",
       "    <tr>\n",
       "      <th id=\"T_8387a_level0_row1\" class=\"row_heading level0 row1\" >Question_1_Market_related</th>\n",
       "      <td id=\"T_8387a_row1_col0\" class=\"data row1 col0\" >0.052877</td>\n",
       "      <td id=\"T_8387a_row1_col1\" class=\"data row1 col1\" >0.241835</td>\n",
       "    </tr>\n",
       "  </tbody>\n",
       "</table>\n",
       "   <style type=\"text/css\">\n",
       "</style>\n",
       "<table id=\"T_65930_\" style='display:inline'>\n",
       "  <caption>GloVe</caption>\n",
       "  <thead>\n",
       "    <tr>\n",
       "      <th class=\"blank level0\" >&nbsp;</th>\n",
       "      <th class=\"col_heading level0 col0\" >pred Question_1_Company_specific</th>\n",
       "      <th class=\"col_heading level0 col1\" >pred Question_1_Market_related</th>\n",
       "    </tr>\n",
       "  </thead>\n",
       "  <tbody>\n",
       "    <tr>\n",
       "      <th id=\"T_65930_level0_row0\" class=\"row_heading level0 row0\" >Question_1_Company_specific</th>\n",
       "      <td id=\"T_65930_row0_col0\" class=\"data row0 col0\" >0.562208</td>\n",
       "      <td id=\"T_65930_row0_col1\" class=\"data row0 col1\" >0.143079</td>\n",
       "    </tr>\n",
       "    <tr>\n",
       "      <th id=\"T_65930_level0_row1\" class=\"row_heading level0 row1\" >Question_1_Market_related</th>\n",
       "      <td id=\"T_65930_row1_col0\" class=\"data row1 col0\" >0.067652</td>\n",
       "      <td id=\"T_65930_row1_col1\" class=\"data row1 col1\" >0.227061</td>\n",
       "    </tr>\n",
       "  </tbody>\n",
       "</table>\n",
       "   <style type=\"text/css\">\n",
       "</style>\n",
       "<table id=\"T_19e28_\" style='display:inline'>\n",
       "  <caption>W2V</caption>\n",
       "  <thead>\n",
       "    <tr>\n",
       "      <th class=\"blank level0\" >&nbsp;</th>\n",
       "      <th class=\"col_heading level0 col0\" >pred Question_1_Company_specific</th>\n",
       "      <th class=\"col_heading level0 col1\" >pred Question_1_Market_related</th>\n",
       "    </tr>\n",
       "  </thead>\n",
       "  <tbody>\n",
       "    <tr>\n",
       "      <th id=\"T_19e28_level0_row0\" class=\"row_heading level0 row0\" >Question_1_Company_specific</th>\n",
       "      <td id=\"T_19e28_row0_col0\" class=\"data row0 col0\" >0.479005</td>\n",
       "      <td id=\"T_19e28_row0_col1\" class=\"data row0 col1\" >0.226283</td>\n",
       "    </tr>\n",
       "    <tr>\n",
       "      <th id=\"T_19e28_level0_row1\" class=\"row_heading level0 row1\" >Question_1_Market_related</th>\n",
       "      <td id=\"T_19e28_row1_col0\" class=\"data row1 col0\" >0.114308</td>\n",
       "      <td id=\"T_19e28_row1_col1\" class=\"data row1 col1\" >0.180404</td>\n",
       "    </tr>\n",
       "  </tbody>\n",
       "</table>\n",
       "   "
      ],
      "text/plain": [
       "<IPython.core.display.HTML object>"
      ]
     },
     "metadata": {},
     "output_type": "display_data"
    }
   ],
   "source": [
    "display_side_by_side([conf_matrix_tfidf, conf_matrix_lsa, conf_matrix_glove, conf_matrix_w2v], captions=['TfIdf', 'LSA', 'GloVe', 'W2V'])"
   ]
  },
  {
   "cell_type": "code",
   "execution_count": null,
   "metadata": {
    "collapsed": false,
    "jupyter": {
     "outputs_hidden": false
    },
    "pycharm": {
     "name": "#%%\n"
    }
   },
   "outputs": [
    {
     "data": {
      "text/html": [
       "<div>\n",
       "<style scoped>\n",
       "    .dataframe tbody tr th:only-of-type {\n",
       "        vertical-align: middle;\n",
       "    }\n",
       "\n",
       "    .dataframe tbody tr th {\n",
       "        vertical-align: top;\n",
       "    }\n",
       "\n",
       "    .dataframe thead th {\n",
       "        text-align: right;\n",
       "    }\n",
       "</style>\n",
       "<table border=\"1\" class=\"dataframe\">\n",
       "  <thead>\n",
       "    <tr style=\"text-align: right;\">\n",
       "      <th></th>\n",
       "      <th>AUC</th>\n",
       "    </tr>\n",
       "  </thead>\n",
       "  <tbody>\n",
       "    <tr>\n",
       "      <th>TfIdf</th>\n",
       "      <td>0.971919</td>\n",
       "    </tr>\n",
       "    <tr>\n",
       "      <th>LSA</th>\n",
       "      <td>0.904760</td>\n",
       "    </tr>\n",
       "    <tr>\n",
       "      <th>GloVe</th>\n",
       "      <td>0.849947</td>\n",
       "    </tr>\n",
       "    <tr>\n",
       "      <th>W2V</th>\n",
       "      <td>0.701335</td>\n",
       "    </tr>\n",
       "  </tbody>\n",
       "</table>\n",
       "</div>"
      ],
      "text/plain": [
       "            AUC\n",
       "TfIdf  0.971919\n",
       "LSA    0.904760\n",
       "GloVe  0.849947\n",
       "W2V    0.701335"
      ]
     },
     "execution_count": 22,
     "metadata": {},
     "output_type": "execute_result"
    }
   ],
   "source": [
    "AUC_res"
   ]
  },
  {
   "cell_type": "markdown",
   "metadata": {},
   "source": [
    "The results of the Linear-Classifier reveal a clear pattern from which emerges that tf-idf seems to be clearly the optimal word-embedding for this type of classification algorithm while the classifier can only barely exploit the information given by Word to Vec. However, LSA and GloVe line up in between with almost identical ROC curves. The tf-idf results do not only outperform the remaining word-embeddings but also allow for an increase in the tpr with only a small associated increase in fpr at an tpr approximately at 0.8. The ranking resulting from the ROC curves is also reflected in the confusion matrices and shows that the bad results of the Word to Vec embedding is originated in a high amount of false predicting the label “Question_1_Company_specific” as “Question_1_Market_related”.  LSA and GloVe show a similar behaviour but less pronounced. \n",
    "\n",
    "In summary it can be observed that all word-embeddings are able to serve as input for the linear (logit-) classifier, which can be also observed by the AUC results. In addition, the “simpler” word-embeddings outperform the Word to Vec and GloVe techniques."
   ]
  },
  {
   "cell_type": "markdown",
   "metadata": {},
   "source": [
    "### Results of Neural-Network-Classifier"
   ]
  },
  {
   "cell_type": "code",
   "execution_count": null,
   "metadata": {
    "collapsed": false,
    "jupyter": {
     "outputs_hidden": false
    },
    "pycharm": {
     "name": "#%%\n"
    }
   },
   "outputs": [
    {
     "name": "stdout",
     "output_type": "stream",
     "text": [
      "Trial 5 Complete [00h 00m 00s]\n",
      "val_loss: 0.6940966844558716\n",
      "\n",
      "Best val_loss So Far: 0.6897057294845581\n",
      "Total elapsed time: 00h 00m 03s\n",
      "INFO:tensorflow:Oracle triggered exit\n",
      "------------------------------ Fitting best model ------------------------------\n",
      "\n",
      "Epoch 1/20\n",
      "13/13 [==============================] - 0s 5ms/step - loss: 0.7006 - val_loss: 0.6914\n",
      "Epoch 2/20\n",
      "13/13 [==============================] - 0s 2ms/step - loss: 0.6936 - val_loss: 0.7036\n",
      "Epoch 3/20\n",
      "13/13 [==============================] - 0s 2ms/step - loss: 0.6947 - val_loss: 0.6952\n",
      "Epoch 4/20\n",
      "13/13 [==============================] - 0s 2ms/step - loss: 0.6967 - val_loss: 0.6952\n",
      "Epoch 5/20\n",
      "13/13 [==============================] - 0s 2ms/step - loss: 0.6949 - val_loss: 0.7004\n",
      "Epoch 6/20\n",
      "13/13 [==============================] - 0s 2ms/step - loss: 0.6987 - val_loss: 0.6951\n",
      "Epoch 7/20\n",
      "13/13 [==============================] - 0s 2ms/step - loss: 0.6973 - val_loss: 0.7125\n",
      "Epoch 8/20\n",
      "13/13 [==============================] - 0s 2ms/step - loss: 0.6962 - val_loss: 0.6976\n",
      "Epoch 9/20\n",
      "13/13 [==============================] - 0s 2ms/step - loss: 0.6991 - val_loss: 0.7026\n",
      "Epoch 10/20\n",
      "13/13 [==============================] - 0s 2ms/step - loss: 0.7030 - val_loss: 0.6974\n",
      "Epoch 11/20\n",
      "13/13 [==============================] - 0s 2ms/step - loss: 0.7009 - val_loss: 0.7070\n",
      "Epoch 12/20\n",
      "13/13 [==============================] - 0s 2ms/step - loss: 0.6965 - val_loss: 0.7012\n",
      "Epoch 13/20\n",
      "13/13 [==============================] - 0s 2ms/step - loss: 0.6952 - val_loss: 0.7055\n",
      "Epoch 14/20\n",
      "13/13 [==============================] - 0s 2ms/step - loss: 0.6926 - val_loss: 0.7155\n",
      "Epoch 15/20\n",
      "13/13 [==============================] - 0s 2ms/step - loss: 0.6908 - val_loss: 0.7075\n",
      "Epoch 16/20\n",
      "13/13 [==============================] - 0s 2ms/step - loss: 0.6883 - val_loss: 0.6990\n",
      "Epoch 17/20\n",
      "13/13 [==============================] - 0s 2ms/step - loss: 0.6892 - val_loss: 0.6999\n",
      "Epoch 18/20\n",
      "13/13 [==============================] - 0s 2ms/step - loss: 0.6920 - val_loss: 0.7046\n",
      "Epoch 19/20\n",
      "13/13 [==============================] - 0s 2ms/step - loss: 0.6893 - val_loss: 0.6999\n",
      "Epoch 20/20\n",
      "13/13 [==============================] - 0s 2ms/step - loss: 0.6897 - val_loss: 0.7070\n"
     ]
    },
    {
     "data": {
      "image/png": "[encoded data removed]",
      "text/plain": [
       "<Figure size 432x288 with 1 Axes>"
      ]
     },
     "metadata": {
      "needs_background": "light"
     },
     "output_type": "display_data"
    }
   ],
   "source": [
    "# Fit classifier\n",
    "data_tfidf_nn = classifierNN(tfidf_data['dataTrain'], tfidf_data['dataTest'], tfidf_doc, data['label_l1'].copy(), encoding_matrix, project_name=\"NN_tfidf\", plot_title=\"TfIdf - NN Classifier Loss\")\n",
    "data_lsa_nn = classifierNN(lsa_data['dataTrain'], lsa_data['dataTest'], lsa_doc, data['label_l1'].copy(), encoding_matrix, project_name=\"NN_lsa\", plot_title=\"LSA - NN Classifier Loss\")\n",
    "data_glove_nn = classifierNN(glove_data['dataTrain'], glove_data['dataTest'], glove_doc, data['label_l1'].copy(), encoding_matrix, project_name=\"NN_glove\", plot_title=\"GloVe - NN Classifier Loss\")\n",
    "data_w2v_nn = classifierNN(w2v_data['dataTrain'], w2v_data['dataTest'], w2v_doc, data['label_l1'].copy(), encoding_matrix, project_name=\"NN_w2v\", plot_title=\"W2V - NN Classifier Loss\")"
   ]
  },
  {
   "cell_type": "code",
   "execution_count": null,
   "metadata": {
    "collapsed": false,
    "jupyter": {
     "outputs_hidden": false
    },
    "pycharm": {
     "name": "#%%\n"
    }
   },
   "outputs": [
    {
     "data": {
      "image/png": "[encoded data removed]",
      "text/plain": [
       "<Figure size 432x288 with 1 Axes>"
      ]
     },
     "metadata": {
      "needs_background": "light"
     },
     "output_type": "display_data"
    },
    {
     "data": {
      "image/png": "[encoded data removed]",
      "text/plain": [
       "<Figure size 432x288 with 1 Axes>"
      ]
     },
     "metadata": {
      "needs_background": "light"
     },
     "output_type": "display_data"
    },
    {
     "data": {
      "image/png": "[encoded data removed]",
      "text/plain": [
       "<Figure size 432x288 with 1 Axes>"
      ]
     },
     "metadata": {
      "needs_background": "light"
     },
     "output_type": "display_data"
    },
    {
     "data": {
      "image/png": "[encoded data removed]",
      "text/plain": [
       "<Figure size 432x288 with 1 Axes>"
      ]
     },
     "metadata": {
      "needs_background": "light"
     },
     "output_type": "display_data"
    }
   ],
   "source": [
    "# Performance Evaluation\n",
    "conf_matrix_tfidf = calculateConfusionMatrix(data_tfidf_nn['label_l1'], data_tfidf_nn['label_l1_NNpred'])\n",
    "auc_tfidf = roc_measure(data_tfidf_nn, encoding_matrix, label_true = 'label_l1', label_prob = 'label_l1_NNprob', plot_title = 'TfIdf - ROC Curve')\n",
    "\n",
    "conf_matrix_lsa = calculateConfusionMatrix(data_lsa_nn['label_l1'], data_lsa_nn['label_l1_NNpred'])\n",
    "auc_lsa = roc_measure(data_lsa_nn, encoding_matrix, label_true = 'label_l1', label_prob = 'label_l1_NNprob', plot_title = 'LSA - ROC Curve')\n",
    "\n",
    "conf_matrix_glove = calculateConfusionMatrix(data_glove_nn['label_l1'], data_glove_nn['label_l1_NNpred'])\n",
    "auc_glove = roc_measure(data_glove_nn, encoding_matrix, label_true = 'label_l1', label_prob = 'label_l1_NNprob', plot_title = 'GloVe - ROC Curve')\n",
    "\n",
    "conf_matrix_w2v = calculateConfusionMatrix(data_w2v_nn['label_l1'], data_w2v_nn['label_l1_NNpred'])\n",
    "auc_w2v = roc_measure(data_w2v_nn, encoding_matrix, label_true = 'label_l1', label_prob = 'label_l1_NNprob', plot_title = 'Word to Vec - ROC Curve')\n",
    "\n",
    "AUC_res = pd.DataFrame([auc_tfidf, auc_lsa, auc_glove, auc_w2v], index = ['TfIdf', 'LSA', 'GloVe', 'W2V'], columns = [\"AUC\"])"
   ]
  },
  {
   "cell_type": "code",
   "execution_count": null,
   "metadata": {
    "collapsed": false,
    "jupyter": {
     "outputs_hidden": false
    },
    "pycharm": {
     "name": "#%%\n"
    }
   },
   "outputs": [
    {
     "data": {
      "text/html": [
       "<style type=\"text/css\">\n",
       "</style>\n",
       "<table id=\"T_3c803_\" style='display:inline'>\n",
       "  <caption>TfIdf</caption>\n",
       "  <thead>\n",
       "    <tr>\n",
       "      <th class=\"blank level0\" >&nbsp;</th>\n",
       "      <th class=\"col_heading level0 col0\" >pred Question_1_Company_specific</th>\n",
       "      <th class=\"col_heading level0 col1\" >pred Question_1_Market_related</th>\n",
       "    </tr>\n",
       "  </thead>\n",
       "  <tbody>\n",
       "    <tr>\n",
       "      <th id=\"T_3c803_level0_row0\" class=\"row_heading level0 row0\" >Question_1_Company_specific</th>\n",
       "      <td id=\"T_3c803_row0_col0\" class=\"data row0 col0\" >0.690513</td>\n",
       "      <td id=\"T_3c803_row0_col1\" class=\"data row0 col1\" >0.014774</td>\n",
       "    </tr>\n",
       "    <tr>\n",
       "      <th id=\"T_3c803_level0_row1\" class=\"row_heading level0 row1\" >Question_1_Market_related</th>\n",
       "      <td id=\"T_3c803_row1_col0\" class=\"data row1 col0\" >0.000778</td>\n",
       "      <td id=\"T_3c803_row1_col1\" class=\"data row1 col1\" >0.293935</td>\n",
       "    </tr>\n",
       "  </tbody>\n",
       "</table>\n",
       "   <style type=\"text/css\">\n",
       "</style>\n",
       "<table id=\"T_73807_\" style='display:inline'>\n",
       "  <caption>LSA</caption>\n",
       "  <thead>\n",
       "    <tr>\n",
       "      <th class=\"blank level0\" >&nbsp;</th>\n",
       "      <th class=\"col_heading level0 col0\" >pred Question_1_Company_specific</th>\n",
       "      <th class=\"col_heading level0 col1\" >pred Question_1_Market_related</th>\n",
       "    </tr>\n",
       "  </thead>\n",
       "  <tbody>\n",
       "    <tr>\n",
       "      <th id=\"T_73807_level0_row0\" class=\"row_heading level0 row0\" >Question_1_Company_specific</th>\n",
       "      <td id=\"T_73807_row0_col0\" class=\"data row0 col0\" >0.654743</td>\n",
       "      <td id=\"T_73807_row0_col1\" class=\"data row0 col1\" >0.050544</td>\n",
       "    </tr>\n",
       "    <tr>\n",
       "      <th id=\"T_73807_level0_row1\" class=\"row_heading level0 row1\" >Question_1_Market_related</th>\n",
       "      <td id=\"T_73807_row1_col0\" class=\"data row1 col0\" >0.014774</td>\n",
       "      <td id=\"T_73807_row1_col1\" class=\"data row1 col1\" >0.279938</td>\n",
       "    </tr>\n",
       "  </tbody>\n",
       "</table>\n",
       "   <style type=\"text/css\">\n",
       "</style>\n",
       "<table id=\"T_7bb1c_\" style='display:inline'>\n",
       "  <caption>GloVe</caption>\n",
       "  <thead>\n",
       "    <tr>\n",
       "      <th class=\"blank level0\" >&nbsp;</th>\n",
       "      <th class=\"col_heading level0 col0\" >pred Question_1_Company_specific</th>\n",
       "      <th class=\"col_heading level0 col1\" >pred Question_1_Market_related</th>\n",
       "    </tr>\n",
       "  </thead>\n",
       "  <tbody>\n",
       "    <tr>\n",
       "      <th id=\"T_7bb1c_level0_row0\" class=\"row_heading level0 row0\" >Question_1_Company_specific</th>\n",
       "      <td id=\"T_7bb1c_row0_col0\" class=\"data row0 col0\" >0.690513</td>\n",
       "      <td id=\"T_7bb1c_row0_col1\" class=\"data row0 col1\" >0.014774</td>\n",
       "    </tr>\n",
       "    <tr>\n",
       "      <th id=\"T_7bb1c_level0_row1\" class=\"row_heading level0 row1\" >Question_1_Market_related</th>\n",
       "      <td id=\"T_7bb1c_row1_col0\" class=\"data row1 col0\" >0.009331</td>\n",
       "      <td id=\"T_7bb1c_row1_col1\" class=\"data row1 col1\" >0.285381</td>\n",
       "    </tr>\n",
       "  </tbody>\n",
       "</table>\n",
       "   <style type=\"text/css\">\n",
       "</style>\n",
       "<table id=\"T_deda2_\" style='display:inline'>\n",
       "  <caption>W2V</caption>\n",
       "  <thead>\n",
       "    <tr>\n",
       "      <th class=\"blank level0\" >&nbsp;</th>\n",
       "      <th class=\"col_heading level0 col0\" >pred Question_1_Company_specific</th>\n",
       "      <th class=\"col_heading level0 col1\" >pred Question_1_Market_related</th>\n",
       "    </tr>\n",
       "  </thead>\n",
       "  <tbody>\n",
       "    <tr>\n",
       "      <th id=\"T_deda2_level0_row0\" class=\"row_heading level0 row0\" >Question_1_Company_specific</th>\n",
       "      <td id=\"T_deda2_row0_col0\" class=\"data row0 col0\" >0.056765</td>\n",
       "      <td id=\"T_deda2_row0_col1\" class=\"data row0 col1\" >0.648523</td>\n",
       "    </tr>\n",
       "    <tr>\n",
       "      <th id=\"T_deda2_level0_row1\" class=\"row_heading level0 row1\" >Question_1_Market_related</th>\n",
       "      <td id=\"T_deda2_row1_col0\" class=\"data row1 col0\" >0.017107</td>\n",
       "      <td id=\"T_deda2_row1_col1\" class=\"data row1 col1\" >0.277605</td>\n",
       "    </tr>\n",
       "  </tbody>\n",
       "</table>\n",
       "   "
      ],
      "text/plain": [
       "<IPython.core.display.HTML object>"
      ]
     },
     "metadata": {},
     "output_type": "display_data"
    }
   ],
   "source": [
    "display_side_by_side([conf_matrix_tfidf, conf_matrix_lsa, conf_matrix_glove, conf_matrix_w2v], captions=['TfIdf', 'LSA', 'GloVe', 'W2V'])"
   ]
  },
  {
   "cell_type": "code",
   "execution_count": null,
   "metadata": {
    "collapsed": false,
    "jupyter": {
     "outputs_hidden": false
    },
    "pycharm": {
     "name": "#%%\n"
    }
   },
   "outputs": [
    {
     "data": {
      "text/html": [
       "<div>\n",
       "<style scoped>\n",
       "    .dataframe tbody tr th:only-of-type {\n",
       "        vertical-align: middle;\n",
       "    }\n",
       "\n",
       "    .dataframe tbody tr th {\n",
       "        vertical-align: top;\n",
       "    }\n",
       "\n",
       "    .dataframe thead th {\n",
       "        text-align: right;\n",
       "    }\n",
       "</style>\n",
       "<table border=\"1\" class=\"dataframe\">\n",
       "  <thead>\n",
       "    <tr style=\"text-align: right;\">\n",
       "      <th></th>\n",
       "      <th>AUC</th>\n",
       "    </tr>\n",
       "  </thead>\n",
       "  <tbody>\n",
       "    <tr>\n",
       "      <th>TfIdf</th>\n",
       "      <td>0.998881</td>\n",
       "    </tr>\n",
       "    <tr>\n",
       "      <th>LSA</th>\n",
       "      <td>0.959433</td>\n",
       "    </tr>\n",
       "    <tr>\n",
       "      <th>GloVe</th>\n",
       "      <td>0.989913</td>\n",
       "    </tr>\n",
       "    <tr>\n",
       "      <th>W2V</th>\n",
       "      <td>0.537985</td>\n",
       "    </tr>\n",
       "  </tbody>\n",
       "</table>\n",
       "</div>"
      ],
      "text/plain": [
       "            AUC\n",
       "TfIdf  0.998881\n",
       "LSA    0.959433\n",
       "GloVe  0.989913\n",
       "W2V    0.537985"
      ]
     },
     "execution_count": 26,
     "metadata": {},
     "output_type": "execute_result"
    }
   ],
   "source": [
    "AUC_res"
   ]
  },
  {
   "cell_type": "markdown",
   "metadata": {},
   "source": [
    "Similar as to the Linear-Classifier the textual representation tf-idf seems to be the most valuable input for this classification problem, with a almost perfect ROC curve. This indicates that the Neural-Network-Classifier in combination with the tf-idf word representation is able to almost predict every label correctly except a minor percentage, which can be seen in the associated confusion matrix. Surprisingly again the word embeddings GloVe and Word to Vec are not able to outperform the tf-idf technique. One reason for this might be because the method does not transform the words in any kind but rather is simply based on frequency, i. e. no information loss due to approximation. Therefore, it can be derived that contextual informations, e. g. taken into account by GloVe, is equally important for the classification of the underlying earning calls as the token frequency. However, GloVe and LSA show also good results but suffer in the sense of wrongly specifying the label \"Question_1_Market_related\" as \"Question_1_Company_specific\". The three methods also share the behaviour of a very steep ROC curve which indicates a very robust classification. However, GloVe and LSA are only able to predict all \"Question_1_Company_specific\" labels correctly by increasing the false positive rate. This can be seen at the rounded corners of the associated ROC curves.\n",
    "\n",
    "Regarding Word to Vec, the technique seems again to be outperformed by all other methods and is barely able to outperform a random classifier. The results are even worse as in combination with the Linear-Classifier. The difference between the results of GloVe and Word to Vec is again very high and suggests that contextual and frequency-based measures are more important for the right classification as a numerical representation given a word to predict the context, since skip-gram is used. This also indicates that directly taking the context into account, rather than predicting it, is more valuable at least in this classification problem.\n",
    "The AUC measures unsurprisingly suggest that the tf-idf and GloVe techniques are able to outperform the remaining methods.\n",
    "\n",
    "The analysis of the in-sample performance shows, that both models can indeed capture the systematic relationsip between the word embedding and the label-groups. Therefore the next step is to analyse the prediction performance via the out-of-sample performance.\n"
   ]
  },
  {
   "cell_type": "markdown",
   "metadata": {},
   "source": [
    "### Comparison of Linear- and Neural-Network-Classifier"
   ]
  },
  {
   "cell_type": "code",
   "execution_count": null,
   "metadata": {
    "collapsed": false,
    "jupyter": {
     "outputs_hidden": false
    },
    "pycharm": {
     "name": "#%%\n"
    }
   },
   "outputs": [
    {
     "name": "stdout",
     "output_type": "stream",
     "text": [
      "Trial 5 Complete [00h 00m 00s]\n",
      "val_loss: 0.702132523059845\n",
      "\n",
      "Best val_loss So Far: 0.6862784028053284\n",
      "Total elapsed time: 00h 00m 04s\n",
      "INFO:tensorflow:Oracle triggered exit\n",
      "------------------------------ Fitting best model ------------------------------\n",
      "\n",
      "Epoch 1/20\n",
      "13/13 [==============================] - 0s 5ms/step - loss: 0.6934 - val_loss: 0.6966\n",
      "Epoch 2/20\n",
      "13/13 [==============================] - 0s 2ms/step - loss: 0.6946 - val_loss: 0.6981\n",
      "Epoch 3/20\n",
      "13/13 [==============================] - 0s 2ms/step - loss: 0.6953 - val_loss: 0.7070\n",
      "Epoch 4/20\n",
      "13/13 [==============================] - 0s 2ms/step - loss: 0.7082 - val_loss: 0.7121\n",
      "Epoch 5/20\n",
      "13/13 [==============================] - 0s 2ms/step - loss: 0.6996 - val_loss: 0.6860\n",
      "Epoch 6/20\n",
      "13/13 [==============================] - 0s 2ms/step - loss: 0.7089 - val_loss: 0.6867\n",
      "Epoch 7/20\n",
      "13/13 [==============================] - 0s 2ms/step - loss: 0.7046 - val_loss: 0.6926\n",
      "Epoch 8/20\n",
      "13/13 [==============================] - 0s 2ms/step - loss: 0.7024 - val_loss: 0.6866\n",
      "Epoch 9/20\n",
      "13/13 [==============================] - 0s 2ms/step - loss: 0.6998 - val_loss: 0.6861\n",
      "Epoch 10/20\n",
      "13/13 [==============================] - 0s 2ms/step - loss: 0.6950 - val_loss: 0.7005\n",
      "Epoch 11/20\n",
      "13/13 [==============================] - 0s 3ms/step - loss: 0.6938 - val_loss: 0.7010\n",
      "Epoch 12/20\n",
      "13/13 [==============================] - 0s 2ms/step - loss: 0.6936 - val_loss: 0.6880\n",
      "Epoch 13/20\n",
      "13/13 [==============================] - 0s 2ms/step - loss: 0.6974 - val_loss: 0.6862\n",
      "Epoch 14/20\n",
      "13/13 [==============================] - 0s 2ms/step - loss: 0.6957 - val_loss: 0.6868\n",
      "Epoch 15/20\n",
      "13/13 [==============================] - 0s 2ms/step - loss: 0.7002 - val_loss: 0.6934\n",
      "Epoch 16/20\n",
      "13/13 [==============================] - 0s 2ms/step - loss: 0.7080 - val_loss: 0.6875\n",
      "Epoch 17/20\n",
      "13/13 [==============================] - 0s 2ms/step - loss: 0.6949 - val_loss: 0.6959\n",
      "Epoch 18/20\n",
      "13/13 [==============================] - 0s 2ms/step - loss: 0.6982 - val_loss: 0.6949\n",
      "Epoch 19/20\n",
      "13/13 [==============================] - 0s 2ms/step - loss: 0.7036 - val_loss: 0.6860\n",
      "Epoch 20/20\n",
      "13/13 [==============================] - 0s 2ms/step - loss: 0.6931 - val_loss: 0.7002\n"
     ]
    },
    {
     "data": {
      "image/png": "[encoded data removed]",
      "text/plain": [
       "<Figure size 432x288 with 1 Axes>"
      ]
     },
     "metadata": {
      "needs_background": "light"
     },
     "output_type": "display_data"
    },
    {
     "name": "stderr",
     "output_type": "stream",
     "text": [
      "100%|██████████| 10/10 [04:06<00:00, 24.62s/it]\n"
     ]
    }
   ],
   "source": [
    "resultMatrix = pd.DataFrame(0, columns=['TfIdf', 'LSA', 'GloVe', 'Word to Vec'], index = ['Linear-Classifier', 'Neural-Network-Classifier'])\n",
    "prompt(\"Starting Cross-Validation\")\n",
    "for i in tqdm(range(1, nfolds+1)):\n",
    "    # Sample Split:\n",
    "    tfidf_data = convert_to_dic(dataSplit(tfidf_sample, test_fold=i))\n",
    "    lsa_data = convert_to_dic(dataSplit(lsa_sample, test_fold=i))\n",
    "    glove_data = convert_to_dic(dataSplit(glove_sample, test_fold=i))\n",
    "    w2v_data = convert_to_dic(dataSplit(w2v_sample, test_fold=i))\n",
    "\n",
    "    # Linear Classifier\n",
    "    # Fit classifier\n",
    "    data_tfidf_lin = classifierLinear(tfidf_data['dataTrain'], tfidf_data['dataTest']['doc'], tfidf_data['dataTest']['labels'])\n",
    "    data_lsa_lin = classifierLinear(lsa_data['dataTrain'], lsa_data['dataTest']['doc'], lsa_data['dataTest']['labels'])\n",
    "    data_glove_lin = classifierLinear(glove_data['dataTrain'], glove_data['dataTest']['doc'], glove_data['dataTest']['labels'])\n",
    "    data_w2v_lin = classifierLinear(w2v_data['dataTrain'], w2v_data['dataTest']['doc'], w2v_data['dataTest']['labels'])\n",
    "\n",
    "    # Performance Eval\n",
    "    resultMatrix.loc['Linear-Classifier', 'TfIdf'] += roc_measure(data_tfidf_lin, encoding_matrix, label_true='label_l1', label_prob='label_l1_LINprob',\n",
    "                            plot_title='TfIdf - ROC Curve', plot=False)\n",
    "    resultMatrix.loc['Linear-Classifier', 'LSA'] += roc_measure(data_lsa_lin, encoding_matrix, label_true='label_l1', label_prob='label_l1_LINprob',\n",
    "                          plot_title='LSA - ROC Curve', plot=False)\n",
    "    resultMatrix.loc['Linear-Classifier', 'GloVe'] += roc_measure(data_glove_lin, encoding_matrix, label_true='label_l1', label_prob='label_l1_LINprob',\n",
    "                            plot_title='GloVe - ROC Curve', plot=False)\n",
    "    resultMatrix.loc['Linear-Classifier', 'Word to Vec'] += roc_measure(data_w2v_lin, encoding_matrix, label_true='label_l1', label_prob='label_l1_LINprob',\n",
    "                          plot_title='Word to Vec - ROC Curve', plot=False)\n",
    "\n",
    "    # NN Classifier\n",
    "    # Fit classifier\n",
    "    data_tfidf_nn = classifierNN(tfidf_data['dataTrain'], tfidf_data['dataTest'], tfidf_data['dataTest']['doc'], tfidf_data['dataTest']['labels'], encoding_matrix,\n",
    "                                 project_name=\"NN_tfidf\", plot_title=\"TfIdf - NN Classifier Loss\")\n",
    "    data_lsa_nn = classifierNN(lsa_data['dataTrain'], lsa_data['dataTest'], lsa_data['dataTest']['doc'], lsa_data['dataTest']['labels'], encoding_matrix,\n",
    "                               project_name=\"NN_lsa\", plot_title=\"LSA - NN Classifier Loss\")\n",
    "    data_glove_nn = classifierNN(glove_data['dataTrain'], glove_data['dataTest'], glove_data['dataTest']['doc'], glove_data['dataTest']['labels'], encoding_matrix,\n",
    "                                 project_name=\"NN_glove\", plot_title=\"GloVe - NN Classifier Loss\")\n",
    "    data_w2v_nn = classifierNN(w2v_data['dataTrain'], w2v_data['dataTest'], w2v_data['dataTest']['doc'], w2v_data['dataTest']['labels'], encoding_matrix,\n",
    "                               project_name=\"NN_w2v\", plot_title=\"W2V - NN Classifier Loss\")\n",
    "\n",
    "    # Performance Eval\n",
    "    resultMatrix.loc['Neural-Network-Classifier', 'TfIdf'] += roc_measure(data_tfidf_nn, encoding_matrix, label_true='label_l1', label_prob='label_l1_NNprob',\n",
    "                            plot_title='TfIdf - ROC Curve', plot=False)\n",
    "    resultMatrix.loc['Neural-Network-Classifier', 'LSA'] += roc_measure(data_lsa_nn, encoding_matrix, label_true='label_l1', label_prob='label_l1_NNprob',\n",
    "                          plot_title='LSA - ROC Curve', plot=False)\n",
    "    resultMatrix.loc['Neural-Network-Classifier', 'GloVe'] += roc_measure(data_glove_nn, encoding_matrix, label_true='label_l1', label_prob='label_l1_NNprob',\n",
    "                            plot_title='GloVe - ROC Curve', plot=False)\n",
    "    resultMatrix.loc['Neural-Network-Classifier', 'Word to Vec'] += roc_measure(data_w2v_nn, encoding_matrix, label_true='label_l1', label_prob='label_l1_NNprob',\n",
    "                          plot_title='Word to Vec - ROC Curve', plot=False)\n",
    "\n",
    "resultMatrix = resultMatrix / nfolds"
   ]
  },
  {
   "cell_type": "code",
   "execution_count": null,
   "metadata": {
    "collapsed": false,
    "jupyter": {
     "outputs_hidden": false
    },
    "pycharm": {
     "name": "#%%\n"
    }
   },
   "outputs": [
    {
     "data": {
      "text/html": [
       "<div>\n",
       "<style scoped>\n",
       "    .dataframe tbody tr th:only-of-type {\n",
       "        vertical-align: middle;\n",
       "    }\n",
       "\n",
       "    .dataframe tbody tr th {\n",
       "        vertical-align: top;\n",
       "    }\n",
       "\n",
       "    .dataframe thead th {\n",
       "        text-align: right;\n",
       "    }\n",
       "</style>\n",
       "<table border=\"1\" class=\"dataframe\">\n",
       "  <thead>\n",
       "    <tr style=\"text-align: right;\">\n",
       "      <th></th>\n",
       "      <th>TfIdf</th>\n",
       "      <th>LSA</th>\n",
       "      <th>GloVe</th>\n",
       "      <th>Word to Vec</th>\n",
       "    </tr>\n",
       "  </thead>\n",
       "  <tbody>\n",
       "    <tr>\n",
       "      <th>Linear-Classifier</th>\n",
       "      <td>0.900121</td>\n",
       "      <td>0.842218</td>\n",
       "      <td>0.735709</td>\n",
       "      <td>0.686488</td>\n",
       "    </tr>\n",
       "    <tr>\n",
       "      <th>Neural-Network-Classifier</th>\n",
       "      <td>0.964499</td>\n",
       "      <td>0.875349</td>\n",
       "      <td>0.905495</td>\n",
       "      <td>0.560655</td>\n",
       "    </tr>\n",
       "  </tbody>\n",
       "</table>\n",
       "</div>"
      ],
      "text/plain": [
       "                              TfIdf       LSA     GloVe  Word to Vec\n",
       "Linear-Classifier          0.900121  0.842218  0.735709     0.686488\n",
       "Neural-Network-Classifier  0.964499  0.875349  0.905495     0.560655"
      ]
     },
     "execution_count": 28,
     "metadata": {},
     "output_type": "execute_result"
    }
   ],
   "source": [
    "resultMatrix"
   ]
  },
  {
   "cell_type": "markdown",
   "metadata": {},
   "source": [
    "These results show a cross-validation based evaluation to validate the differences in the average performance of the four word embeddings in combination with both classifiers (linear and neural-network based). This is obtained by splitting the dataset into 10 equally sized folds via the function ```dataSplit()```. Then nine folds are used for training and one fold is used for testing the performance of the word representation - classifier combination. The results, represented by the AUC across all folds is then averaged by dividing the sum of the AUC per word representation - classifier combination by the number of folds, which is ten. \n",
    "\n",
    "Regarding tf-idf and LSA the results are similar with a small outperformance regarding the Neural-Network-Classifier. By looking at the results for GloVe and Word to Vec it is interesting to see that on average, the Linear Classifier works better with the Word to Vec method while the Neural-Network-Classifier is able to exploit the information more efficiently given by GloVe. Overall, the Neural-Network-Classifier is able to outperform the Linear-Classifier on average for almost all word embeddings except Word to Vec. Additionally, it can be derived that the word embedding technique is more important for the Neural-Network-Classifer as for the Linear-Classifier by calculating the range of the results:\n",
    "\n",
    "$Result Range_{classifier} = max(results) - min(results)$\n",
    "\n",
    "Since the Neural-Network-Classifier has a higher range in the results, even though the results are better, different word embeddings should be taken into account when using this classifier.\n"
   ]
  },
  {
   "cell_type": "markdown",
   "metadata": {},
   "source": [
    "## Conclusion"
   ]
  },
  {
   "cell_type": "markdown",
   "metadata": {
    "pycharm": {
     "name": "#%% md\n"
    }
   },
   "source": [
    "In this notebook we provided evaluations on four different word embedding techniques by passing the results into two different classifiers, measured by three different performance evaluation methods. The results show that different type of word embeddings have sometimes more and sometimes less relevance for the classification results. While the results for tf-idf and LSA are comparably good for both classifiers the results differ for the more complex word embedding techniques GloVe and Word to Vec. Further the diversity of the results suggests that there are many factors affecting the quality of the word-embedding and the optimal word-embedding for different classifiers. By applying a Neural-Network-Classifier we were able to demonstrate that the results can be improved by combining the word embeddings with more complex classification models. Nevertheless, it is impressive to see that the Linear-Classifier is only barely outperformed by the Neural-Network-Classifier. In conclusion it could be derived that different word embeddings work differently well. In addition, this might be also the case for different types of classification problems. Therefore, different word embeddings - classification combinations should be used."
   ]
  }
 ],
 "metadata": {
  "kernelspec": {
   "display_name": "Python 3",
   "language": "python",
   "name": "python3"
  },
  "language_info": {
   "codemirror_mode": {
    "name": "ipython",
    "version": 3
   },
   "file_extension": ".py",
   "mimetype": "text/x-python",
   "name": "python",
   "nbconvert_exporter": "python",
   "pygments_lexer": "ipython3",
   "version": "3.6.9"
  },
  "toc-autonumbering": false,
  "toc-showcode": false,
  "toc-showmarkdowntxt": false,
  "toc-showtags": false
 },
 "nbformat": 4,
 "nbformat_minor": 4
}